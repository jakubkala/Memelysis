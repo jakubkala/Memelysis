{
 "cells": [
  {
   "cell_type": "code",
   "execution_count": 1,
   "metadata": {},
   "outputs": [],
   "source": [
    "import praw\n",
    "import json\n",
    "from datetime import datetime"
   ]
  },
  {
   "cell_type": "code",
   "execution_count": 2,
   "metadata": {},
   "outputs": [],
   "source": [
    "with open(\"./secrets/shadow.json\") as json_file:\n",
    "    login_info = json.load(json_file)"
   ]
  },
  {
   "cell_type": "code",
   "execution_count": 3,
   "metadata": {},
   "outputs": [],
   "source": [
    "reddit = praw.Reddit(client_id=login_info['client_id'], \n",
    "                     client_secret=login_info['client_secret'], \n",
    "                     username=login_info['username'], \n",
    "                     password=login_info['password'], \n",
    "                     user_agent=login_info['user_agent'])"
   ]
  },
  {
   "cell_type": "code",
   "execution_count": 8,
   "metadata": {},
   "outputs": [],
   "source": [
    "subreddit = reddit.subreddit('memes')"
   ]
  },
  {
   "cell_type": "code",
   "execution_count": 29,
   "metadata": {},
   "outputs": [],
   "source": [
    "new_memes = subreddit.new(limit=5)"
   ]
  },
  {
   "cell_type": "code",
   "execution_count": 30,
   "metadata": {},
   "outputs": [
    {
     "name": "stdout",
     "output_type": "stream",
     "text": [
      "2020-03-22 13:24\n",
      "Who says we can’t relive the past?\n",
      "\n",
      "https://i.redd.it/16kc8aup68o41.jpg\n",
      "\n",
      "2020-03-22 13:24\n",
      "I think lmao lost\n",
      "\n",
      "https://i.redd.it/boj2mgsn68o41.jpg\n",
      "\n",
      "2020-03-22 13:23\n",
      "Mouthbreathing\n",
      "\n",
      "https://i.redd.it/f2hp5bam68o41.jpg\n",
      "\n",
      "2020-03-22 13:23\n",
      "It’s corona time\n",
      "\n",
      "https://i.redd.it/7xtiqo6m68o41.jpg\n",
      "\n",
      "2020-03-22 13:23\n",
      "Me:*laughs in unemployment\n",
      "\n",
      "https://i.redd.it/yupzgazl68o41.jpg\n",
      "\n"
     ]
    }
   ],
   "source": [
    "for submission in new_memes:\n",
    "    sub_creation_date = int(submission.created_utc)\n",
    "    title = str(submission.title)\n",
    "    url = str(submission.url)\n",
    "    print(datetime.utcfromtimestamp(sub_creation_date).strftime('%Y-%m-%d %H:%M'))\n",
    "    print(title)\n",
    "    print(url)\n",
    "    print()"
   ]
  },
  {
   "cell_type": "code",
   "execution_count": null,
   "metadata": {},
   "outputs": [],
   "source": []
  }
 ],
 "metadata": {
  "kernelspec": {
   "display_name": "Python (ml-cpu)",
   "language": "python",
   "name": "ml-cpu"
  },
  "language_info": {
   "codemirror_mode": {
    "name": "ipython",
    "version": 3
   },
   "file_extension": ".py",
   "mimetype": "text/x-python",
   "name": "python",
   "nbconvert_exporter": "python",
   "pygments_lexer": "ipython3",
   "version": "3.7.5"
  }
 },
 "nbformat": 4,
 "nbformat_minor": 2
}
