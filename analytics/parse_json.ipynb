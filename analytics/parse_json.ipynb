{
 "cells": [
  {
   "cell_type": "code",
   "execution_count": 1,
   "metadata": {},
   "outputs": [
    {
     "name": "stdout",
     "output_type": "stream",
     "text": [
      "/home/analytics/Memelysis/analytics\r\n"
     ]
    }
   ],
   "source": [
    "!pwd"
   ]
  },
  {
   "cell_type": "code",
   "execution_count": 2,
   "metadata": {},
   "outputs": [],
   "source": [
    "import findspark\n",
    "findspark.init()"
   ]
  },
  {
   "cell_type": "code",
   "execution_count": 38,
   "metadata": {},
   "outputs": [],
   "source": [
    "import subprocess\n",
    "\n",
    "from pyspark import SparkContext, SparkConf\n",
    "\n",
    "from pyspark.sql.types import StructType, IntegerType, StringType\n",
    "from pyspark.sql import SparkSession, SQLContext, functions"
   ]
  },
  {
   "cell_type": "code",
   "execution_count": 10,
   "metadata": {},
   "outputs": [],
   "source": [
    "sc = SparkContext.getOrCreate()\n",
    "spark = SparkSession(sc)"
   ]
  },
  {
   "cell_type": "code",
   "execution_count": 101,
   "metadata": {},
   "outputs": [
    {
     "name": "stdout",
     "output_type": "stream",
     "text": [
      "/jsons/memes_1588956783893.json\n",
      "/jsons/memes_1588975800125.json\n",
      "/jsons/memes_1588979400070.json\n",
      "/jsons/memes_1588983000044.json\n",
      "/jsons/memes_1588986600066.json\n",
      "/jsons/memes_1588990200082.json\n",
      "/jsons/memes_1588993800056.json\n",
      "/jsons/memes_1588997400057.json\n",
      "/jsons/memes_1589001000045.json\n",
      "/jsons/memes_1589004600051.json\n",
      "/jsons/memes_1589008200048.json\n",
      "/jsons/memes_1589011800040.json\n",
      "/jsons/memes_1589015400180.json\n",
      "/jsons/memes_1589019000033.json\n",
      "/jsons/memes_1589022600061.json\n"
     ]
    }
   ],
   "source": [
    "cmd = 'hdfs dfs -ls /jsons/'\n",
    "\n",
    "files = subprocess.check_output(cmd, shell=True)\n",
    "files = files.strip()\n",
    "files = files.decode().split('\\n')\n",
    "\n",
    "out = []\n",
    "\n",
    "for path in files:\n",
    "    f = path.split(\" \")[-1]\n",
    "    if 'memes_' in f:\n",
    "        out.append(f)\n",
    "        print(f)"
   ]
  },
  {
   "cell_type": "code",
   "execution_count": 102,
   "metadata": {},
   "outputs": [],
   "source": [
    "sqlContext = SQLContext(sc)"
   ]
  },
  {
   "cell_type": "code",
   "execution_count": 103,
   "metadata": {},
   "outputs": [],
   "source": [
    "sample_json = out[-1]"
   ]
  },
  {
   "cell_type": "code",
   "execution_count": 104,
   "metadata": {},
   "outputs": [],
   "source": [
    "df = spark.read.json(sample_json)"
   ]
  },
  {
   "cell_type": "code",
   "execution_count": 105,
   "metadata": {},
   "outputs": [
    {
     "name": "stdout",
     "output_type": "stream",
     "text": [
      "root\n",
      " |-- additional_data: string (nullable = true)\n",
      " |-- extension: string (nullable = true)\n",
      " |-- id: string (nullable = true)\n",
      " |-- image_path: string (nullable = true)\n",
      " |-- source: string (nullable = true)\n",
      " |-- text: string (nullable = true)\n",
      " |-- url: string (nullable = true)\n",
      "\n"
     ]
    }
   ],
   "source": [
    "df.printSchema()"
   ]
  },
  {
   "cell_type": "markdown",
   "metadata": {},
   "source": [
    "# TWITTER"
   ]
  },
  {
   "cell_type": "code",
   "execution_count": 121,
   "metadata": {},
   "outputs": [
    {
     "name": "stdout",
     "output_type": "stream",
     "text": [
      "root\n",
      " |-- id: string (nullable = true)\n",
      " |-- image_path: string (nullable = true)\n",
      " |-- extension: string (nullable = true)\n",
      " |-- source: string (nullable = true)\n",
      " |-- text: string (nullable = true)\n",
      " |-- url: string (nullable = true)\n",
      " |-- created_at: string (nullable = true)\n",
      " |-- tweet_text: string (nullable = true)\n",
      " |-- favorite_count: integer (nullable = true)\n",
      " |-- retweet_count: integer (nullable = true)\n",
      " |-- hashtags: string (nullable = true)\n",
      "\n",
      "+-------------------+--------------------+---------+-------+--------------------+--------------------+-------------------+--------------------+--------------+-------------+--------------------+\n",
      "|                 id|          image_path|extension| source|                text|                 url|         created_at|          tweet_text|favorite_count|retweet_count|            hashtags|\n",
      "+-------------------+--------------------+---------+-------+--------------------+--------------------+-------------------+--------------------+--------------+-------------+--------------------+\n",
      "|1259022330656948224|images/twitter_20...|      jpg|twitter|Good looking Gree...|http://pbs.twimg....|2020-05-09 07:28:09|Laugh in Greek #f...|             0|            0|[{\"text\":\"funny\",...|\n",
      "|1259022909043027968|images/twitter_20...|      png|twitter|♡Listen to Your h...|http://pbs.twimg....|2020-05-09 07:30:27|RT @MemesDnd: Har...|             0|           80|[{\"text\":\"dnd\",\"i...|\n",
      "|1259030241265188868|images/twitter_20...|      jpg|twitter|  Fuclkin' stop you |http://pbs.twimg....|2020-05-09 07:59:35|RT @kito_kyunn: h...|             0|            1|[{\"text\":\"meme\",\"...|\n",
      "|1259021932911083522|images/twitter_20...|      jpg|twitter|                    |http://pbs.twimg....|2020-05-09 07:26:34|RT @SkyplantOff: ...|             0|            2|[{\"text\":\"pokemon...|\n",
      "|1259022373543608321|images/twitter_20...|      jpg|twitter|THIS TEA IS NOTHI...|http://pbs.twimg....|2020-05-09 07:28:20|Never ever diss h...|             0|            0|[{\"text\":\"funny\",...|\n",
      "|1259023705767895040|images/twitter_20...|      jpg|twitter|                    |http://pbs.twimg....|2020-05-09 07:33:37|#gif #pic #meme H...|             0|            0|[{\"text\":\"gif\",\"i...|\n",
      "|1259029304479846400|images/twitter_20...|      jpg|twitter|                    |http://pbs.twimg....|2020-05-09 07:55:52|MeMe Live～Come an...|             0|            1|[{\"text\":\"meme\",\"...|\n",
      "|1259018267181682692|images/twitter_20...|      jpg|twitter|this is a strobbe...|http://pbs.twimg....|2020-05-09 07:12:00|RT @it_DankMemes:...|             0|            1|[{\"text\":\"funny\",...|\n",
      "|1259028258429063168|images/twitter_20...|      jpg|twitter|BatmanE Criminals...|http://pbs.twimg....|2020-05-09 07:51:43|“I never kill.” #...|             2|            0|[{\"text\":\"funny\",...|\n",
      "|1259027324646948865|images/twitter_20...|      jpg|twitter|      STOP peN Cere |http://pbs.twimg....|2020-05-09 07:48:00|Milan, yesterday,...|             1|            0|[{\"text\":\"meme\",\"...|\n",
      "|1259023697807118337|images/twitter_20...|      jpg|twitter|          3685 3885 |http://pbs.twimg....|2020-05-09 07:33:35|#gif #pic #meme M...|             0|            0|[{\"text\":\"gif\",\"i...|\n",
      "|1259020027149328384|images/twitter_20...|      jpg|twitter|  ΜΟΥΥΙ GLASSIC USB |http://pbs.twimg....|2020-05-09 07:19:00|Men's Leather Lap...|             0|            0|[{\"text\":\"kick\",\"...|\n",
      "|1259025893789483008|images/twitter_20...|      jpg|twitter|8:35 | 14%里 Threa...|http://pbs.twimg....|2020-05-09 07:42:19|Calling All Metal...|             5|            2|[{\"text\":\"meme\",\"...|\n",
      "|1259022365272477697|images/twitter_20...|      jpg|twitter|VICE.COM Coronavi...|http://pbs.twimg....|2020-05-09 07:28:18|Thots are gone #f...|             0|            0|[{\"text\":\"funny\",...|\n",
      "|1259029110178713600|images/twitter_20...|      png|twitter|File not found Wh...|http://pbs.twimg....|2020-05-09 07:55:06|RT @ItsYuhBoiiiii...|             0|            1|[{\"text\":\"funny\",...|\n",
      "|1259025642609393665|images/twitter_20...|      png|twitter|15 year old boy i...|http://pbs.twimg....|2020-05-09 07:41:19|really hoping thi...|             0|            0|[{\"text\":\"meme\",\"...|\n",
      "|1259027580679852032|images/twitter_20...|      jpg|twitter|Jula 2010. F 18 4...|http://pbs.twimg....|2020-05-09 07:49:01|RT @FoolBrew: Who...|             0|           31|[{\"text\":\"pokemon...|\n",
      "|1259025636083011585|images/twitter_20...|      png|twitter|WILL YOU PRESS TH...|http://pbs.twimg....|2020-05-09 07:41:17|bip bop I' m a ri...|             0|            1|[{\"text\":\"meme\",\"...|\n",
      "|1259025922365194242|images/twitter_20...|      jpg|twitter|ENDLESS AMOUNT OF...|http://pbs.twimg....|2020-05-09 07:42:26|Sometimes I branc...|             4|            1|[{\"text\":\"meme\",\"...|\n",
      "|1259025738075955202|images/twitter_20...|      jpg|twitter|In the movie The ...|http://pbs.twimg....|2020-05-09 07:41:42|He gotta pay for ...|             0|            0|[{\"text\":\"funny\",...|\n",
      "+-------------------+--------------------+---------+-------+--------------------+--------------------+-------------------+--------------------+--------------+-------------+--------------------+\n",
      "only showing top 20 rows\n",
      "\n"
     ]
    }
   ],
   "source": [
    "twitter_df = df.filter(df.source == 'twitter')\n",
    "\n",
    "twitter_schema = StructType().add(\n",
    "    'created_at', StringType(), True).add(\n",
    "    'text', StringType(), True).add(\n",
    "    'favorite_count', IntegerType(), True).add(\n",
    "    'retweet_count', IntegerType(), True).add(\n",
    "    'hashtags', StringType(), True)\n",
    "\n",
    "twitter_data =  twitter_df.select(\n",
    "    functions.col('id'),\n",
    "    functions.from_json(functions.col('additional_data'), schema=twitter_schema).alias(\"data\")\n",
    ").select('id', 'data.*')\n",
    "\n",
    "twitter_data = twitter_data.withColumnRenamed('text', 'tweet_text')\n",
    "\n",
    "twitter_df = twitter_df.alias('twitter_df')\n",
    "twitter_data = twitter_data.alias('twitter_data')\n",
    "\n",
    "inner_join = twitter_df.join(twitter_data,\n",
    "                             twitter_df.id == twitter_data.id).select(\n",
    "    'twitter_df.id',\n",
    "    'twitter_df.image_path',\n",
    "    'twitter_df.extension',\n",
    "    'twitter_df.source',\n",
    "    'twitter_df.text',\n",
    "    'twitter_df.url',\n",
    "    'twitter_data.created_at',\n",
    "    'twitter_data.tweet_text',\n",
    "    'twitter_data.favorite_count',\n",
    "    'twitter_data.retweet_count',\n",
    "    'twitter_data.hashtags')\n",
    "inner_join.printSchema()\n",
    "inner_join.show()"
   ]
  },
  {
   "cell_type": "markdown",
   "metadata": {},
   "source": [
    "# MEMEDROID"
   ]
  },
  {
   "cell_type": "code",
   "execution_count": 122,
   "metadata": {},
   "outputs": [],
   "source": [
    "memedroid_df = df.filter(df.source == 'memedroid')"
   ]
  },
  {
   "cell_type": "code",
   "execution_count": 123,
   "metadata": {},
   "outputs": [
    {
     "name": "stdout",
     "output_type": "stream",
     "text": [
      "root\n",
      " |-- additional_data: string (nullable = true)\n",
      " |-- extension: string (nullable = true)\n",
      " |-- id: string (nullable = true)\n",
      " |-- image_path: string (nullable = true)\n",
      " |-- source: string (nullable = true)\n",
      " |-- text: string (nullable = true)\n",
      " |-- url: string (nullable = true)\n",
      "\n"
     ]
    }
   ],
   "source": [
    "memedroid_df.printSchema()"
   ]
  },
  {
   "cell_type": "code",
   "execution_count": 130,
   "metadata": {},
   "outputs": [],
   "source": [
    "x = memedroid_df.select('additional_data').limit(1).collect()"
   ]
  },
  {
   "cell_type": "code",
   "execution_count": 131,
   "metadata": {},
   "outputs": [
    {
     "data": {
      "text/plain": [
       "[Row(additional_data='{\"title\":\"I\\'m not crying, you\\'re crying.\",\"tags\":{},\"date\":\"2020-05-09 07:00:14\",\"popularity\":\"78%(360)\"}')]"
      ]
     },
     "execution_count": 131,
     "metadata": {},
     "output_type": "execute_result"
    }
   ],
   "source": [
    "x"
   ]
  },
  {
   "cell_type": "code",
   "execution_count": 129,
   "metadata": {},
   "outputs": [],
   "source": [
    "df.collect()[n]"
   ]
  },
  {
   "cell_type": "code",
   "execution_count": 132,
   "metadata": {},
   "outputs": [
    {
     "name": "stdout",
     "output_type": "stream",
     "text": [
      "root\n",
      " |-- id: string (nullable = true)\n",
      " |-- image_path: string (nullable = true)\n",
      " |-- extension: string (nullable = true)\n",
      " |-- source: string (nullable = true)\n",
      " |-- text: string (nullable = true)\n",
      " |-- url: string (nullable = true)\n",
      " |-- title: string (nullable = true)\n",
      " |-- tags: string (nullable = true)\n",
      " |-- date: integer (nullable = true)\n",
      " |-- popularity: integer (nullable = true)\n",
      "\n",
      "+--------------------+--------------------+---------+---------+--------------------+--------------------+-----+----+----+----------+\n",
      "|                  id|          image_path|extension|   source|                text|                 url|title|tags|date|popularity|\n",
      "+--------------------+--------------------+---------+---------+--------------------+--------------------+-----+----+----+----------+\n",
      "|UPLOADED715eb4ba4...|images/memedroid_...|     jpeg|memedroid|REMEMBER WHEN YOU...|https://images3.m...| null|null|null|      null|\n",
      "|UPLOADED9565eb509...|images/memedroid_...|     jpeg|memedroid|My microwave The ...|https://images7.m...| null|null|null|      null|\n",
      "|UPLOADED4315eb4ac...|images/memedroid_...|     jpeg|memedroid|can't wait for th...|https://images3.m...| null|null|null|      null|\n",
      "|UPLOADED7435eb4a4...|images/memedroid_...|     jpeg|memedroid|Coronavirus 2020 ...|https://images7.m...| null|null|null|      null|\n",
      "|UPLOADED7865eb4c3...|images/memedroid_...|     jpeg|memedroid|when my housemate...|https://images7.m...| null|null|null|      null|\n",
      "|UPLOADED2035eb4bd...|images/memedroid_...|     jpeg|memedroid|Why do we see lig...|https://images3.m...| null|null|null|      null|\n",
      "|UPLOADED7325eb4bd...|images/memedroid_...|     jpeg|memedroid|USA Why can't you...|https://images7.m...| null|null|null|      null|\n",
      "|UPLOADED2325eb4d0...|images/memedroid_...|     jpeg|memedroid|HAPPY BIRTHDAY! C...|https://images3.m...| null|null|null|      null|\n",
      "|UPLOADED6335eb499...|images/memedroid_...|     jpeg|memedroid|send a pic Holy s...|https://images7.m...| null|null|null|      null|\n",
      "|UPLOADED4315eb4c6...|images/memedroid_...|     jpeg|memedroid|Rainbow Six Siege...|https://images3.m...| null|null|null|      null|\n",
      "|UPLOADED7435eb4c1...|images/memedroid_...|     jpeg|memedroid|Man Woman White B...|https://images7.m...| null|null|null|      null|\n",
      "|UPLOADED1935eb4c6...|images/memedroid_...|     jpeg|memedroid|What is it? More1...|https://images3.m...| null|null|null|      null|\n",
      "|UPLOADED1665eb4b9...|images/memedroid_...|     jpeg|memedroid|  ISLAND ISN'T LAND |https://images3.m...| null|null|null|      null|\n",
      "|UPLOADED7145eb4c3...|images/memedroid_...|     jpeg|memedroid|when your wife ta...|https://images7.m...| null|null|null|      null|\n",
      "|UPLOADED3375eb481...|images/memedroid_...|     jpeg|memedroid|MURDER HORNETS?? ...|https://images3.m...| null|null|null|      null|\n",
      "+--------------------+--------------------+---------+---------+--------------------+--------------------+-----+----+----+----------+\n",
      "\n"
     ]
    }
   ],
   "source": [
    "memedroid_df = df.filter(df.source == 'memedroid')\n",
    "\n",
    "memedroid_schema = StructType().add(\n",
    "    'title', StringType(), True).add(\n",
    "    'tags', StringType(), True).add(\n",
    "    'date', IntegerType(), True).add(\n",
    "    'popularity', IntegerType(), True)\n",
    "\n",
    "memedroid_data =  memedroid_df.select(\n",
    "    functions.col('id'),\n",
    "    functions.from_json(functions.col('additional_data'), schema=memedroid_schema).alias(\"data\")\n",
    ").select('id', 'data.*')\n",
    "\n",
    "memedroid_data = memedroid_data.withColumnRenamed('text', 'tweet_text')\n",
    "\n",
    "memedroid_df = memedroid_df.alias('memedroid_df')\n",
    "memedroid_data = memedroid_data.alias('memedroid_data')\n",
    "\n",
    "inner_join = memedroid_df.join(memedroid_data,\n",
    "                             memedroid_df.id == memedroid_data.id).select(\n",
    "    'memedroid_df.id',\n",
    "    'memedroid_df.image_path',\n",
    "    'memedroid_df.extension',\n",
    "    'memedroid_df.source',\n",
    "    'memedroid_df.text',\n",
    "    'memedroid_df.url',\n",
    "    'memedroid_data.title',\n",
    "    'memedroid_data.tags',\n",
    "    'memedroid_data.date',\n",
    "    'memedroid_data.popularity')\n",
    "\n",
    "inner_join.printSchema()\n",
    "inner_join.show()"
   ]
  },
  {
   "cell_type": "code",
   "execution_count": null,
   "metadata": {},
   "outputs": [],
   "source": []
  }
 ],
 "metadata": {
  "kernelspec": {
   "display_name": "Python 3",
   "language": "python",
   "name": "python3"
  },
  "language_info": {
   "codemirror_mode": {
    "name": "ipython",
    "version": 3
   },
   "file_extension": ".py",
   "mimetype": "text/x-python",
   "name": "python",
   "nbconvert_exporter": "python",
   "pygments_lexer": "ipython3",
   "version": "3.5.3"
  }
 },
 "nbformat": 4,
 "nbformat_minor": 4
}
