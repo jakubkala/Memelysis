{
 "cells": [
  {
   "cell_type": "code",
   "execution_count": 1,
   "metadata": {},
   "outputs": [
    {
     "name": "stdout",
     "output_type": "stream",
     "text": [
      "/home/analytics/Memelysis/analytics\r\n"
     ]
    }
   ],
   "source": [
    "!pwd"
   ]
  },
  {
   "cell_type": "code",
   "execution_count": 2,
   "metadata": {},
   "outputs": [],
   "source": [
    "import findspark\n",
    "findspark.init()"
   ]
  },
  {
   "cell_type": "code",
   "execution_count": 3,
   "metadata": {},
   "outputs": [],
   "source": [
    "import subprocess\n",
    "\n",
    "from pyspark import SparkContext, SparkConf\n",
    "\n",
    "from pyspark.sql.types import StructType, IntegerType, StringType, FloatType\n",
    "from pyspark.sql import SparkSession, SQLContext, functions\n",
    "\n",
    "from pyspark.sql.functions import lit\n",
    "from functools import reduce\n",
    "from pyspark.sql import DataFrame"
   ]
  },
  {
   "cell_type": "code",
   "execution_count": 4,
   "metadata": {},
   "outputs": [],
   "source": [
    "sc = SparkContext.getOrCreate()\n",
    "spark = SparkSession.builder.getOrCreate()"
   ]
  },
  {
   "cell_type": "code",
   "execution_count": 5,
   "metadata": {},
   "outputs": [
    {
     "name": "stdout",
     "output_type": "stream",
     "text": [
      "/jsons/memes_1588956783893.json\n",
      "/jsons/memes_1588975800125.json\n",
      "/jsons/memes_1588979400070.json\n",
      "/jsons/memes_1588983000044.json\n",
      "/jsons/memes_1588986600066.json\n",
      "/jsons/memes_1588990200082.json\n",
      "/jsons/memes_1588993800056.json\n",
      "/jsons/memes_1588997400057.json\n",
      "/jsons/memes_1589001000045.json\n",
      "/jsons/memes_1589004600051.json\n",
      "/jsons/memes_1589008200048.json\n",
      "/jsons/memes_1589011800040.json\n",
      "/jsons/memes_1589015400180.json\n",
      "/jsons/memes_1589019000033.json\n",
      "/jsons/memes_1589022600061.json\n",
      "/jsons/memes_1589026200044.json\n",
      "/jsons/memes_1589029800040.json\n",
      "/jsons/memes_1589033400043.json\n",
      "/jsons/memes_1589040600208.json\n",
      "/jsons/memes_1589041500031.json\n",
      "/jsons/memes_1589045100027.json\n",
      "/jsons/memes_1589048700046.json\n"
     ]
    }
   ],
   "source": [
    "cmd = 'hdfs dfs -ls /jsons/'\n",
    "\n",
    "files = subprocess.check_output(cmd, shell=True)\n",
    "files = files.strip()\n",
    "files = files.decode().split('\\n')\n",
    "\n",
    "out = []\n",
    "\n",
    "for path in files:\n",
    "    f = path.split(\" \")[-1]\n",
    "    if 'memes_' in f:\n",
    "        out.append(f)\n",
    "        print(f)"
   ]
  },
  {
   "cell_type": "code",
   "execution_count": 6,
   "metadata": {},
   "outputs": [],
   "source": [
    "sqlContext = SQLContext(sc)"
   ]
  },
  {
   "cell_type": "code",
   "execution_count": 8,
   "metadata": {},
   "outputs": [],
   "source": [
    "sample_json = out[-1]"
   ]
  },
  {
   "cell_type": "code",
   "execution_count": 9,
   "metadata": {},
   "outputs": [],
   "source": [
    "df = spark.read.json(sample_json)"
   ]
  },
  {
   "cell_type": "code",
   "execution_count": 10,
   "metadata": {},
   "outputs": [
    {
     "name": "stdout",
     "output_type": "stream",
     "text": [
      "root\n",
      " |-- additional_data: string (nullable = true)\n",
      " |-- extension: string (nullable = true)\n",
      " |-- id: string (nullable = true)\n",
      " |-- image_path: string (nullable = true)\n",
      " |-- source: string (nullable = true)\n",
      " |-- text: string (nullable = true)\n",
      " |-- url: string (nullable = true)\n",
      "\n"
     ]
    }
   ],
   "source": [
    "df.printSchema()"
   ]
  },
  {
   "cell_type": "markdown",
   "metadata": {},
   "source": [
    "# TWITTER"
   ]
  },
  {
   "cell_type": "code",
   "execution_count": 55,
   "metadata": {},
   "outputs": [
    {
     "name": "stdout",
     "output_type": "stream",
     "text": [
      "root\n",
      " |-- id: string (nullable = true)\n",
      " |-- image_path: string (nullable = true)\n",
      " |-- extension: string (nullable = true)\n",
      " |-- source: string (nullable = true)\n",
      " |-- text: string (nullable = true)\n",
      " |-- url: string (nullable = true)\n",
      " |-- created_at: string (nullable = true)\n",
      " |-- tweet_text: string (nullable = true)\n",
      " |-- favorite_count: integer (nullable = true)\n",
      " |-- retweet_count: integer (nullable = true)\n",
      " |-- hashtags: string (nullable = true)\n",
      "\n",
      "+-------------------+--------------------+---------+-------+--------------------+--------------------+-------------------+--------------------+--------------+-------------+--------------------+\n",
      "|                 id|          image_path|extension| source|                text|                 url|         created_at|          tweet_text|favorite_count|retweet_count|            hashtags|\n",
      "+-------------------+--------------------+---------+-------+--------------------+--------------------+-------------------+--------------------+--------------+-------------+--------------------+\n",
      "|1259043022077034497|images/twitter_20...|      jpg|twitter|Every other membe...|http://pbs.twimg....|2020-05-09 08:50:23|RT @MemesDnd: Who...|             0|           17|[{\"text\":\"dungeon...|\n",
      "|1259036283676098561|images/twitter_20...|      jpg|twitter|\"OmG HAVE yOu SeE...|http://pbs.twimg....|2020-05-09 08:23:36|RT @it_DankMemes:...|             0|            2|[{\"text\":\"funny\",...|\n",
      "|1259040856100741121|images/twitter_20...|      jpg|twitter|@shammatheking gu...|http://pbs.twimg....|2020-05-09 08:41:46|me_irl #funny #me...|             0|            0|[{\"text\":\"funny\",...|\n",
      "|1259034554842648577|images/twitter_20...|      jpg|twitter|Can I copy your h...|http://pbs.twimg....|2020-05-09 08:16:44|RT @nintendomni: ...|             0|           24|[{\"text\":\"FinalFa...|\n",
      "|1259033833216843777|images/twitter_20...|      jpg|twitter|d TikTok @gunungg...|http://pbs.twimg....|2020-05-09 08:13:52|RT @AndraNouval: ...|             0|            3|[{\"text\":\"memes\",...|\n",
      "|1259030996315496448|images/twitter_20...|      png|twitter|Someone: bites th...|http://pbs.twimg....|2020-05-09 08:02:35|RT @it_DankMemes:...|             0|            1|[{\"text\":\"funny\",...|\n",
      "|1259037496899514369|images/twitter_20...|      png|twitter|How about you sto...|http://pbs.twimg....|2020-05-09 08:28:25|RT @r_MemeEconomy...|             0|            4|[{\"text\":\"Memeeco...|\n",
      "|1259035528445538304|images/twitter_20...|      png|twitter|Me: guys play ser...|http://pbs.twimg....|2020-05-09 08:20:36|RT @Meme27362766:...|             0|            2|[{\"text\":\"meme\",\"...|\n",
      "|1259039837241462785|images/twitter_20...|      jpg|twitter|8:35 | 14%里 Threa...|http://pbs.twimg....|2020-05-09 08:37:43|RT @sparksfury: C...|             0|            3|[{\"text\":\"meme\",\"...|\n",
      "|1259035817126879232|images/twitter_20...|      jpg|twitter|\"OmG HAVE yOu SeE...|http://pbs.twimg....|2020-05-09 08:21:45|aaGGHHHHHHH shUT ...|             0|            2|[{\"text\":\"funny\",...|\n",
      "|1259030778387795968|images/twitter_20...|      png|twitter|Someone: bites th...|http://pbs.twimg....|2020-05-09 08:01:43|And another one d...|             2|            1|[{\"text\":\"funny\",...|\n",
      "|1259045038065139718|images/twitter_20...|      jpg|twitter|ACHIEVEMENTS You'...|http://pbs.twimg....|2020-05-09 08:58:23|*cough cough* yup...|             2|            1|[{\"text\":\"reddit\"...|\n",
      "|1259035781034848257|images/twitter_20...|      jpg|twitter|                    |http://pbs.twimg....|2020-05-09 08:21:36|Me when I shit my...|             0|            1|[{\"text\":\"meme\",\"...|\n",
      "|1259041025642958848|images/twitter_20...|      jpg|twitter|I could use a pay...|http://pbs.twimg....|2020-05-09 08:42:27|Netflix and chill...|             1|            0|[{\"text\":\"meme\",\"...|\n",
      "|1259045346405232640|images/twitter_20...|      jpg|twitter|ACHIEVEMENTS You'...|http://pbs.twimg....|2020-05-09 08:59:37|RT @NastySoftware...|             0|            1|[{\"text\":\"reddit\"...|\n",
      "|1259038549535588352|images/twitter_20...|      jpg|twitter|Pre-Covid Choke H...|http://pbs.twimg....|2020-05-09 08:32:36|RT @ItsYuhBoiiiii...|             0|            1|[{\"text\":\"funny\",...|\n",
      "|1259037451915538432|images/twitter_20...|      jpg|twitter| My Homie in Gta 5: |http://pbs.twimg....|2020-05-09 08:28:14|We all have this ...|             2|            0|[{\"text\":\"gta5\",\"...|\n",
      "|1259033630376177666|images/twitter_20...|      jpg|twitter|                 ২২ |http://pbs.twimg....|2020-05-09 08:13:03|#Meme Shared by: ...|             0|            0|[{\"text\":\"Meme\",\"...|\n",
      "|1259038718259679232|images/twitter_20...|      jpg|twitter|                    |http://pbs.twimg....|2020-05-09 08:33:16|RT @DMeme37: MoNk...|             0|            5|[{\"text\":\"meme\",\"...|\n",
      "|1259034664607657984|images/twitter_20...|      png|twitter|How about you sto...|http://pbs.twimg....|2020-05-09 08:17:10|RT @r_MemeEconomy...|             0|            4|[{\"text\":\"Memeeco...|\n",
      "+-------------------+--------------------+---------+-------+--------------------+--------------------+-------------------+--------------------+--------------+-------------+--------------------+\n",
      "only showing top 20 rows\n",
      "\n"
     ]
    }
   ],
   "source": [
    "twitter_df = df.filter(df.source == 'twitter')\n",
    "\n",
    "twitter_schema = StructType().add(\n",
    "    'created_at', StringType(), True).add(\n",
    "    'text', StringType(), True).add(\n",
    "    'favorite_count', IntegerType(), True).add(\n",
    "    'retweet_count', IntegerType(), True).add(\n",
    "    'hashtags', StringType(), True)\n",
    "\n",
    "twitter_data =  twitter_df.select(\n",
    "    functions.col('id'),\n",
    "    functions.from_json(functions.col('additional_data'), schema=twitter_schema).alias(\"data\")\n",
    ").select('id', 'data.*')\n",
    "\n",
    "twitter_data = twitter_data.withColumnRenamed('text', 'tweet_text')\n",
    "\n",
    "twitter_df = twitter_df.alias('twitter_df')\n",
    "twitter_data = twitter_data.alias('twitter_data')\n",
    "\n",
    "twitter_join = twitter_df.join(twitter_data,\n",
    "                             twitter_df.id == twitter_data.id).select(\n",
    "    'twitter_df.id',\n",
    "    'twitter_df.image_path',\n",
    "    'twitter_df.extension',\n",
    "    'twitter_df.source',\n",
    "    'twitter_df.text',\n",
    "    'twitter_df.url',\n",
    "    'twitter_data.created_at',\n",
    "    'twitter_data.tweet_text',\n",
    "    'twitter_data.favorite_count',\n",
    "    'twitter_data.retweet_count',\n",
    "    'twitter_data.hashtags')\n",
    "twitter_join.printSchema()\n",
    "twitter_join.show()"
   ]
  },
  {
   "cell_type": "markdown",
   "metadata": {},
   "source": [
    "# MEMEDROID"
   ]
  },
  {
   "cell_type": "code",
   "execution_count": 58,
   "metadata": {},
   "outputs": [
    {
     "name": "stdout",
     "output_type": "stream",
     "text": [
      "root\n",
      " |-- id: string (nullable = true)\n",
      " |-- image_path: string (nullable = true)\n",
      " |-- extension: string (nullable = true)\n",
      " |-- source: string (nullable = true)\n",
      " |-- text: string (nullable = true)\n",
      " |-- url: string (nullable = true)\n",
      " |-- title: string (nullable = true)\n",
      " |-- tags: string (nullable = true)\n",
      " |-- date: string (nullable = true)\n",
      " |-- popularity: string (nullable = true)\n",
      "\n",
      "+--------------------+--------------------+---------+---------+--------------------+--------------------+--------------------+--------------------+-------------------+----------+\n",
      "|                  id|          image_path|extension|   source|                text|                 url|               title|                tags|               date|popularity|\n",
      "+--------------------+--------------------+---------+---------+--------------------+--------------------+--------------------+--------------------+-------------------+----------+\n",
      "|UPLOADED5375eb4ed...|images/memedroid_...|     jpeg|memedroid|Japanese economy ...|https://images3.m...|     Mega stonks owo|{\"tag1\":\"n.n\",\"ta...|2020-05-09 08:30:01|  85%(421)|\n",
      "|UPLOADED7465eb560...|images/memedroid_...|     jpeg|memedroid|AOIOP SAMAIR IN M...|https://images7.m...|Respect for the p...|{\"tag1\":\"meme\",\"t...|2020-05-09 08:00:08|  90%(601)|\n",
      "|UPLOADED3765eb526...|images/memedroid_...|     jpeg|memedroid|Me trying to comf...|https://images3.m...|               I try|                  {}|2020-05-09 08:00:04|  86%(399)|\n",
      "|UPLOADED9805eb4f0...|images/memedroid_...|     jpeg|memedroid|When u thought u ...|https://images7.m...| Ashoka tano Rule 34|                  {}|2020-05-09 08:30:02|  84%(397)|\n",
      "+--------------------+--------------------+---------+---------+--------------------+--------------------+--------------------+--------------------+-------------------+----------+\n",
      "\n"
     ]
    }
   ],
   "source": [
    "memedroid_df = df.filter(df.source == 'memedroid')\n",
    "\n",
    "memedroid_schema = StructType().add(\n",
    "    'title', StringType(), True).add(\n",
    "    'tags', StringType(), True).add(\n",
    "    'date', StringType(), True).add(\n",
    "    'popularity', StringType(), True)\n",
    "\n",
    "memedroid_data =  memedroid_df.select(\n",
    "    functions.col('id'),\n",
    "    functions.from_json(functions.col('additional_data'), schema=memedroid_schema).alias(\"data\")\n",
    ").select('id', 'data.*')\n",
    "\n",
    "\n",
    "memedroid_df = memedroid_df.alias('memedroid_df')\n",
    "memedroid_data = memedroid_data.alias('memedroid_data')\n",
    "\n",
    "memedroid_join = memedroid_df.join(memedroid_data,\n",
    "                             memedroid_df.id == memedroid_data.id).select(\n",
    "    'memedroid_df.id',\n",
    "    'memedroid_df.image_path',\n",
    "    'memedroid_df.extension',\n",
    "    'memedroid_df.source',\n",
    "    'memedroid_df.text',\n",
    "    'memedroid_df.url',\n",
    "    'memedroid_data.title',\n",
    "    'memedroid_data.tags',\n",
    "    'memedroid_data.date',\n",
    "    'memedroid_data.popularity')\n",
    "\n",
    "memedroid_join.printSchema()\n",
    "memedroid_join.show()"
   ]
  },
  {
   "cell_type": "markdown",
   "metadata": {},
   "source": [
    "# IMGUR"
   ]
  },
  {
   "cell_type": "code",
   "execution_count": 57,
   "metadata": {},
   "outputs": [
    {
     "name": "stdout",
     "output_type": "stream",
     "text": [
      "root\n",
      " |-- id: string (nullable = true)\n",
      " |-- image_path: string (nullable = true)\n",
      " |-- extension: string (nullable = true)\n",
      " |-- source: string (nullable = true)\n",
      " |-- text: string (nullable = true)\n",
      " |-- url: string (nullable = true)\n",
      " |-- title: string (nullable = true)\n",
      " |-- datetime: integer (nullable = true)\n",
      " |-- views: integer (nullable = true)\n",
      " |-- ups: integer (nullable = true)\n",
      " |-- downs: integer (nullable = true)\n",
      " |-- points: integer (nullable = true)\n",
      " |-- nsfw: string (nullable = true)\n",
      "\n",
      "+-------+--------------------+---------+------+--------------------+--------------------+--------------------+----------+-----+---+-----+------+-----+\n",
      "|     id|          image_path|extension|source|                text|                 url|               title|  datetime|views|ups|downs|points| nsfw|\n",
      "+-------+--------------------+---------+------+--------------------+--------------------+--------------------+----------+-----+---+-----+------+-----+\n",
      "|ZT8XYdp|images/imgur_2020...|      png| imgur|7:43 Instagram LI...|https://i.imgur.c...|Do you even dump,...|1589013724|  972| 19|    5|    14|false|\n",
      "|vUZthoI|images/imgur_2020...|      jpg| imgur|IS YOUR BODY FROM...|https://i.imgur.c...|                   .|1589013563|  804| 12|    3|     9|false|\n",
      "|uhFcyzl|images/imgur_2020...|      jpg| imgur|When you tell you...|https://i.imgur.c...|                   .|1589013370| 1328| 22|    4|    18|false|\n",
      "|NDk0xkk|images/imgur_2020...|      jpg| imgur|godotal: omgbugle...|https://i.imgur.c...|\"F\" in the commen...|1589012429| 2877| 81|    6|    75|false|\n",
      "|YbQY1y4|images/imgur_2020...|      jpg| imgur|When you ask a we...|https://i.imgur.c...| We get to complain.|1589011238|  434| 10|    3|     7|false|\n",
      "|FY4PXC2|images/imgur_2020...|      jpg| imgur|I DON'T ALWAYS TA...|https://i.imgur.c...|Me ever since the...|1589012641| 1530| 25|    1|    24|false|\n",
      "|wjA9sbg|images/imgur_2020...|      jpg| imgur|He's so small he ...|https://i.imgur.c...|Do you even dump,...|1589013724|  972| 19|    5|    14|false|\n",
      "|QfDox3R|images/imgur_2020...|      jpg| imgur|I've never come t...|https://i.imgur.c...|Do you even dump,...|1589013724|  972| 19|    5|    14|false|\n",
      "|aj9Kjpl|images/imgur_2020...|      jpg| imgur|STOP THIS IS A CH...|https://i.imgur.c...|Is your wifi on? ...|1589014566|  409| 21|    6|    15|false|\n",
      "|NubAXsJ|images/imgur_2020...|      jpg| imgur|UGH, I ALWAYS KIL...|https://i.imgur.c...|       Plastic Plant|1589013649| 1596| 39|    0|    39|false|\n",
      "+-------+--------------------+---------+------+--------------------+--------------------+--------------------+----------+-----+---+-----+------+-----+\n",
      "\n"
     ]
    }
   ],
   "source": [
    "imgur_df = df.filter(df.source == 'imgur')\n",
    "\n",
    "imgur_schema = StructType().add(\n",
    "    'title', StringType(), True).add(\n",
    "    'datetime', IntegerType(), True).add(\n",
    "    'views', IntegerType(), True).add(\n",
    "    'ups', IntegerType(), True).add(\n",
    "    'downs', IntegerType(), True).add(\n",
    "    'points', IntegerType(), True).add(\n",
    "    'nsfw', StringType(), True)\n",
    "imgur_data =  imgur_df.select(\n",
    "    functions.col('id'),\n",
    "    functions.from_json(functions.col('additional_data'), schema=imgur_schema).alias(\"data\")\n",
    ").select('id', 'data.*')\n",
    "\n",
    "imgur_df = imgur_df.alias('imgur_df')\n",
    "imgur_data = imgur_data.alias('imgur_data')\n",
    "\n",
    "imgur_join = imgur_df.join(imgur_data,\n",
    "                             imgur_df.id == imgur_data.id).select(\n",
    "    'imgur_df.id',\n",
    "    'imgur_df.image_path',\n",
    "    'imgur_df.extension',\n",
    "    'imgur_df.source',\n",
    "    'imgur_df.text',\n",
    "    'imgur_df.url',\n",
    "    'imgur_data.title',\n",
    "    'imgur_data.datetime',\n",
    "    'imgur_data.views',\n",
    "    'imgur_data.ups',\n",
    "    'imgur_data.downs',\n",
    "    'imgur_data.points',\n",
    "    'imgur_data.nsfw'\n",
    "    )\n",
    "\n",
    "imgur_join.printSchema()\n",
    "imgur_join.show()"
   ]
  },
  {
   "cell_type": "markdown",
   "metadata": {},
   "source": [
    "# REDDIT"
   ]
  },
  {
   "cell_type": "code",
   "execution_count": 59,
   "metadata": {},
   "outputs": [
    {
     "name": "stdout",
     "output_type": "stream",
     "text": [
      "root\n",
      " |-- id: string (nullable = true)\n",
      " |-- image_path: string (nullable = true)\n",
      " |-- extension: string (nullable = true)\n",
      " |-- source: string (nullable = true)\n",
      " |-- text: string (nullable = true)\n",
      " |-- url: string (nullable = true)\n",
      " |-- title: string (nullable = true)\n",
      " |-- date: float (nullable = true)\n",
      " |-- upvotes: integer (nullable = true)\n",
      " |-- upvote_ratio: float (nullable = true)\n",
      "\n",
      "+----------------+--------------------+---------+------+--------------------+--------------------+--------------------+------------+-------+------------+\n",
      "|              id|          image_path|extension|source|                text|                 url|               title|        date|upvotes|upvote_ratio|\n",
      "+----------------+--------------------+---------+------+--------------------+--------------------+--------------------+------------+-------+------------+\n",
      "|2020050912000573|images/reddit_202...|      png|reddit|When you make a m...|https://i.redd.it...|Gonna get rekt no...|1.58901478E9|     11|        0.63|\n",
      "|2020050912000576|images/reddit_202...|      jpg|reddit|BREAKING NEWS Kar...|https://i.redd.it...|An interesting ti...|1.58901478E9|     47|        0.94|\n",
      "|2020050912000582|images/reddit_202...|      jpg|reddit|Your team when th...|https://i.redd.it...|Making a daily me...|1.58901453E9|    182|        0.98|\n",
      "|2020050912000580|images/reddit_202...|      png|reddit|When you want to ...|https://i.redd.it...|            Pls help|1.58901453E9|     90|        0.89|\n",
      "|2020050912000599|images/reddit_202...|      jpg|reddit|Me having a hyper...|https://i.redd.it...|It was the goddam...|1.58901414E9|     70|        0.94|\n",
      "|2020050912000600|images/reddit_202...|      jpg|reddit|ender portal A ma...|https://i.redd.it...|Haha trojan horse...|1.58901414E9|     43|        0.97|\n",
      "|2020050912000606|images/reddit_202...|      jpg|reddit|coupex auER If yo...|https://i.redd.it...|Let’s sign a peti...|1.58901402E9|     39|        0.87|\n",
      "|2020050912000650|images/reddit_202...|      jpg|reddit|You will fear me ...|https://i.redd.it...|       Uncultured...|1.58901325E9|     33|        0.94|\n",
      "|2020050912000581|images/reddit_202...|      jpg|reddit|r/teenagers Poste...|https://i.redd.it...|Why are you so wise?|1.58901453E9|    136|        0.98|\n",
      "|2020050912000591|images/reddit_202...|      jpg|reddit|XÆ A-12: Dad I th...|https://i.redd.it...|Oh no it seems a ...|1.58901427E9|     38|        0.89|\n",
      "|2020050912000609|images/reddit_202...|      jpg|reddit|Redditers when th...|https://i.redd.it...|No no. He’s got a...|1.58901402E9|     85|         0.9|\n",
      "|2020050912000611|images/reddit_202...|      jpg|reddit|XÆ A-12 be like \"...|https://i.imgur.c...|      Night night...|1.58901389E9|     30|        0.84|\n",
      "|2020050912000629|images/reddit_202...|      jpg|reddit|Ad About this app...|https://i.redd.it...|Look how they mas...|1.58901363E9|     63|        0.96|\n",
      "|2020050912000648|images/reddit_202...|      jpg|reddit|BILLY! WHAT HAVE ...|https://i.redd.it...|I hate that guy s...|1.58901338E9|    234|        0.95|\n",
      "|2020050912000661|images/reddit_202...|      jpg|reddit|Me : Hey Girl. Th...|https://i.redd.it...|I am Not Good at ...|1.58901312E9|     32|        0.95|\n",
      "|2020050912000662|images/reddit_202...|      jpg|reddit|vehicles tthes a ...|https://i.redd.it...|I mean he has got...|1.58901312E9|    575|        0.95|\n",
      "|2020050912000574|images/reddit_202...|      jpg|reddit|ME ON MOTHER'S DA...|https://i.redd.it...|         Love my mom|1.58901478E9|     35|        0.94|\n",
      "|2020050912000578|images/reddit_202...|      jpg|reddit|When you finally ...|https://i.redd.it...| It’s just the worst|1.58901453E9|     52|        0.97|\n",
      "|2020050912000584|images/reddit_202...|      jpg|reddit|Random guy uses e...|https://i.redd.it...|Redditors hate em...| 1.5890144E9|     98|        0.97|\n",
      "|2020050912000583|images/reddit_202...|      jpg|reddit|Female fish will ...|https://i.redd.it...|     Aquarian whores| 1.5890144E9|    326|        0.92|\n",
      "+----------------+--------------------+---------+------+--------------------+--------------------+--------------------+------------+-------+------------+\n",
      "only showing top 20 rows\n",
      "\n"
     ]
    }
   ],
   "source": [
    "#[Row(additional_data='{\"date\"\n",
    "#     :1.589014785E9,\"title\":\"Gonna get rekt now, I reposted this.\",\"upvotes\":11,\"upvote_ratio\":0.63}')]\n",
    "\n",
    "reddit_df = df.filter(df.source == 'reddit')\n",
    "\n",
    "reddit_schema = StructType().add(\n",
    "    'title', StringType(), True).add(\n",
    "    'date', FloatType(), True).add(\n",
    "    'upvotes', IntegerType(), True).add(\n",
    "    'upvote_ratio', FloatType(), True)\n",
    "     \n",
    "reddit_data =  reddit_df.select(\n",
    "    functions.col('id'),\n",
    "    functions.from_json(functions.col('additional_data'), schema=reddit_schema).alias(\"data\")\n",
    ").select('id', 'data.*')\n",
    "\n",
    "reddit_df = reddit_df.alias('reddit_df')\n",
    "reddit_data = reddit_data.alias('reddit_data')\n",
    "\n",
    "reddit_join = reddit_df.join(reddit_data,\n",
    "                             reddit_df.id == reddit_data.id).select(\n",
    "    'reddit_df.id',\n",
    "    'reddit_df.image_path',\n",
    "    'reddit_df.extension',\n",
    "    'reddit_df.source',\n",
    "    'reddit_df.text',\n",
    "    'reddit_df.url',\n",
    "    'reddit_data.title',\n",
    "    'reddit_data.date',\n",
    "    'reddit_data.upvotes',\n",
    "    'reddit_data.upvote_ratio'\n",
    "    )\n",
    "\n",
    "reddit_join.printSchema()\n",
    "reddit_join.show()"
   ]
  },
  {
   "cell_type": "markdown",
   "metadata": {},
   "source": [
    "# JOIN"
   ]
  },
  {
   "cell_type": "code",
   "execution_count": 60,
   "metadata": {},
   "outputs": [
    {
     "name": "stdout",
     "output_type": "stream",
     "text": [
      "root\n",
      " |-- id: string (nullable = true)\n",
      " |-- image_path: string (nullable = true)\n",
      " |-- extension: string (nullable = true)\n",
      " |-- source: string (nullable = true)\n",
      " |-- text: string (nullable = true)\n",
      " |-- url: string (nullable = true)\n",
      " |-- created_at: string (nullable = true)\n",
      " |-- tweet_text: string (nullable = true)\n",
      " |-- favorite_count: integer (nullable = true)\n",
      " |-- retweet_count: integer (nullable = true)\n",
      " |-- hashtags: string (nullable = true)\n",
      "\n",
      "root\n",
      " |-- id: string (nullable = true)\n",
      " |-- image_path: string (nullable = true)\n",
      " |-- extension: string (nullable = true)\n",
      " |-- source: string (nullable = true)\n",
      " |-- text: string (nullable = true)\n",
      " |-- url: string (nullable = true)\n",
      " |-- title: string (nullable = true)\n",
      " |-- tags: string (nullable = true)\n",
      " |-- date: string (nullable = true)\n",
      " |-- popularity: string (nullable = true)\n",
      "\n",
      "root\n",
      " |-- id: string (nullable = true)\n",
      " |-- image_path: string (nullable = true)\n",
      " |-- extension: string (nullable = true)\n",
      " |-- source: string (nullable = true)\n",
      " |-- text: string (nullable = true)\n",
      " |-- url: string (nullable = true)\n",
      " |-- title: string (nullable = true)\n",
      " |-- datetime: integer (nullable = true)\n",
      " |-- views: integer (nullable = true)\n",
      " |-- ups: integer (nullable = true)\n",
      " |-- downs: integer (nullable = true)\n",
      " |-- points: integer (nullable = true)\n",
      " |-- nsfw: string (nullable = true)\n",
      "\n",
      "root\n",
      " |-- id: string (nullable = true)\n",
      " |-- image_path: string (nullable = true)\n",
      " |-- extension: string (nullable = true)\n",
      " |-- source: string (nullable = true)\n",
      " |-- text: string (nullable = true)\n",
      " |-- url: string (nullable = true)\n",
      " |-- title: string (nullable = true)\n",
      " |-- date: float (nullable = true)\n",
      " |-- upvotes: integer (nullable = true)\n",
      " |-- upvote_ratio: float (nullable = true)\n",
      "\n"
     ]
    }
   ],
   "source": [
    "twitter_join.printSchema()\n",
    "memedroid_join.printSchema()\n",
    "imgur_join.printSchema()\n",
    "reddit_join.printSchema()"
   ]
  },
  {
   "cell_type": "code",
   "execution_count": 61,
   "metadata": {},
   "outputs": [
    {
     "ename": "NameError",
     "evalue": "name 'ta' is not defined",
     "output_type": "error",
     "traceback": [
      "\u001b[0;31m---------------------------------------------------------------------------\u001b[0m",
      "\u001b[0;31mNameError\u001b[0m                                 Traceback (most recent call last)",
      "\u001b[0;32m<ipython-input-61-00c18ed66d86>\u001b[0m in \u001b[0;36m<module>\u001b[0;34m\u001b[0m\n\u001b[0;32m----> 1\u001b[0;31m \u001b[0mfull_outer_join\u001b[0m \u001b[0;34m=\u001b[0m \u001b[0mta\u001b[0m\u001b[0;34m.\u001b[0m\u001b[0mjoin\u001b[0m\u001b[0;34m(\u001b[0m\u001b[0mtb\u001b[0m\u001b[0;34m,\u001b[0m \u001b[0mta\u001b[0m\u001b[0;34m.\u001b[0m\u001b[0mname\u001b[0m \u001b[0;34m==\u001b[0m \u001b[0mtb\u001b[0m\u001b[0;34m.\u001b[0m\u001b[0mname\u001b[0m\u001b[0;34m,\u001b[0m\u001b[0mhow\u001b[0m\u001b[0;34m=\u001b[0m\u001b[0;34m'full'\u001b[0m\u001b[0;34m)\u001b[0m \u001b[0;31m# Could also use 'full_outer'\u001b[0m\u001b[0;34m\u001b[0m\u001b[0m\n\u001b[0m\u001b[1;32m      2\u001b[0m \u001b[0mfull_outer_join\u001b[0m\u001b[0;34m.\u001b[0m\u001b[0mshow\u001b[0m\u001b[0;34m(\u001b[0m\u001b[0;34m)\u001b[0m\u001b[0;34m\u001b[0m\u001b[0m\n",
      "\u001b[0;31mNameError\u001b[0m: name 'ta' is not defined"
     ]
    }
   ],
   "source": [
    "full_outer_join = ta.join(tb, ta.name == tb.name,how='full') # Could also use 'full_outer'\n",
    "full_outer_join.show()"
   ]
  },
  {
   "cell_type": "code",
   "execution_count": 62,
   "metadata": {},
   "outputs": [
    {
     "ename": "NameError",
     "evalue": "name 'TableA' is not defined",
     "output_type": "error",
     "traceback": [
      "\u001b[0;31m---------------------------------------------------------------------------\u001b[0m",
      "\u001b[0;31mNameError\u001b[0m                                 Traceback (most recent call last)",
      "\u001b[0;32m<ipython-input-62-648797637e43>\u001b[0m in \u001b[0;36m<module>\u001b[0;34m\u001b[0m\n\u001b[0;32m----> 1\u001b[0;31m \u001b[0mtwitter_join\u001b[0m \u001b[0;34m=\u001b[0m \u001b[0mTableA\u001b[0m\u001b[0;34m.\u001b[0m\u001b[0malias\u001b[0m\u001b[0;34m(\u001b[0m\u001b[0;34m'twitter_join'\u001b[0m\u001b[0;34m)\u001b[0m\u001b[0;34m\u001b[0m\u001b[0m\n\u001b[0m\u001b[1;32m      2\u001b[0m \u001b[0mmemedroid_join\u001b[0m \u001b[0;34m=\u001b[0m \u001b[0mTableB\u001b[0m\u001b[0;34m.\u001b[0m\u001b[0malias\u001b[0m\u001b[0;34m(\u001b[0m\u001b[0;34m'memedroid_join'\u001b[0m\u001b[0;34m)\u001b[0m\u001b[0;34m\u001b[0m\u001b[0m\n\u001b[1;32m      3\u001b[0m \u001b[0mimgur_join\u001b[0m \u001b[0;34m=\u001b[0m \u001b[0mTableA\u001b[0m\u001b[0;34m.\u001b[0m\u001b[0malias\u001b[0m\u001b[0;34m(\u001b[0m\u001b[0;34m'imgur_join'\u001b[0m\u001b[0;34m)\u001b[0m\u001b[0;34m\u001b[0m\u001b[0m\n\u001b[1;32m      4\u001b[0m \u001b[0mreddit_join\u001b[0m \u001b[0;34m=\u001b[0m \u001b[0mTableB\u001b[0m\u001b[0;34m.\u001b[0m\u001b[0malias\u001b[0m\u001b[0;34m(\u001b[0m\u001b[0;34m'reddit_join'\u001b[0m\u001b[0;34m)\u001b[0m\u001b[0;34m\u001b[0m\u001b[0m\n",
      "\u001b[0;31mNameError\u001b[0m: name 'TableA' is not defined"
     ]
    }
   ],
   "source": [
    "twitter_join = twitter_join.alias('twitter_join')\n",
    "memedroid_join = memedroid_join.alias('memedroid_join')\n",
    "imgur_join = imgur_join.alias('imgur_join')\n",
    "reddit_join = reddit_join.alias('reddit_join')"
   ]
  },
  {
   "cell_type": "code",
   "execution_count": 66,
   "metadata": {},
   "outputs": [],
   "source": [
    "common_cols = ['id', 'image_path', 'extension', 'source', 'text', 'url']"
   ]
  },
  {
   "cell_type": "code",
   "execution_count": 67,
   "metadata": {},
   "outputs": [
    {
     "data": {
      "text/plain": [
       "43"
      ]
     },
     "execution_count": 67,
     "metadata": {},
     "output_type": "execute_result"
    }
   ],
   "source": [
    "twitter_join.select(['id', 'image_path', 'extension', 'source', 'text', 'url']).count()"
   ]
  },
  {
   "cell_type": "code",
   "execution_count": 69,
   "metadata": {},
   "outputs": [
    {
     "data": {
      "text/plain": [
       "53"
      ]
     },
     "execution_count": 69,
     "metadata": {},
     "output_type": "execute_result"
    }
   ],
   "source": [
    "twitter_join.select(common_cols).union(imgur_join.select(common_cols))"
   ]
  },
  {
   "cell_type": "code",
   "execution_count": 72,
   "metadata": {},
   "outputs": [
    {
     "ename": "AttributeError",
     "evalue": "'DataFrame' object has no attribute '_jrdd_deserializer'",
     "output_type": "error",
     "traceback": [
      "\u001b[0;31m---------------------------------------------------------------------------\u001b[0m",
      "\u001b[0;31mAttributeError\u001b[0m                            Traceback (most recent call last)",
      "\u001b[0;32m<ipython-input-72-0442a38dfcad>\u001b[0m in \u001b[0;36m<module>\u001b[0;34m\u001b[0m\n\u001b[1;32m      2\u001b[0m          \u001b[0mmemedroid_join\u001b[0m\u001b[0;34m.\u001b[0m\u001b[0mselect\u001b[0m\u001b[0;34m(\u001b[0m\u001b[0mcommon_cols\u001b[0m\u001b[0;34m)\u001b[0m\u001b[0;34m,\u001b[0m\u001b[0;34m\u001b[0m\u001b[0m\n\u001b[1;32m      3\u001b[0m          \u001b[0mimgur_join\u001b[0m\u001b[0;34m.\u001b[0m\u001b[0mselect\u001b[0m\u001b[0;34m(\u001b[0m\u001b[0mcommon_cols\u001b[0m\u001b[0;34m)\u001b[0m\u001b[0;34m,\u001b[0m\u001b[0;34m\u001b[0m\u001b[0m\n\u001b[0;32m----> 4\u001b[0;31m          reddit_join.select(common_cols)])\n\u001b[0m",
      "\u001b[0;32m/usr/lib/spark/python/pyspark/context.py\u001b[0m in \u001b[0;36munion\u001b[0;34m(self, rdds)\u001b[0m\n\u001b[1;32m    830\u001b[0m         \u001b[0;34m[\u001b[0m\u001b[0;34mu'Hello'\u001b[0m\u001b[0;34m,\u001b[0m \u001b[0;34m'World!'\u001b[0m\u001b[0;34m]\u001b[0m\u001b[0;34m\u001b[0m\u001b[0m\n\u001b[1;32m    831\u001b[0m         \"\"\"\n\u001b[0;32m--> 832\u001b[0;31m         \u001b[0mfirst_jrdd_deserializer\u001b[0m \u001b[0;34m=\u001b[0m \u001b[0mrdds\u001b[0m\u001b[0;34m[\u001b[0m\u001b[0;36m0\u001b[0m\u001b[0;34m]\u001b[0m\u001b[0;34m.\u001b[0m\u001b[0m_jrdd_deserializer\u001b[0m\u001b[0;34m\u001b[0m\u001b[0m\n\u001b[0m\u001b[1;32m    833\u001b[0m         \u001b[0;32mif\u001b[0m \u001b[0many\u001b[0m\u001b[0;34m(\u001b[0m\u001b[0mx\u001b[0m\u001b[0;34m.\u001b[0m\u001b[0m_jrdd_deserializer\u001b[0m \u001b[0;34m!=\u001b[0m \u001b[0mfirst_jrdd_deserializer\u001b[0m \u001b[0;32mfor\u001b[0m \u001b[0mx\u001b[0m \u001b[0;32min\u001b[0m \u001b[0mrdds\u001b[0m\u001b[0;34m)\u001b[0m\u001b[0;34m:\u001b[0m\u001b[0;34m\u001b[0m\u001b[0m\n\u001b[1;32m    834\u001b[0m             \u001b[0mrdds\u001b[0m \u001b[0;34m=\u001b[0m \u001b[0;34m[\u001b[0m\u001b[0mx\u001b[0m\u001b[0;34m.\u001b[0m\u001b[0m_reserialize\u001b[0m\u001b[0;34m(\u001b[0m\u001b[0;34m)\u001b[0m \u001b[0;32mfor\u001b[0m \u001b[0mx\u001b[0m \u001b[0;32min\u001b[0m \u001b[0mrdds\u001b[0m\u001b[0;34m]\u001b[0m\u001b[0;34m\u001b[0m\u001b[0m\n",
      "\u001b[0;32m/usr/lib/spark/python/pyspark/sql/dataframe.py\u001b[0m in \u001b[0;36m__getattr__\u001b[0;34m(self, name)\u001b[0m\n\u001b[1;32m   1180\u001b[0m         \u001b[0;32mif\u001b[0m \u001b[0mname\u001b[0m \u001b[0;32mnot\u001b[0m \u001b[0;32min\u001b[0m \u001b[0mself\u001b[0m\u001b[0;34m.\u001b[0m\u001b[0mcolumns\u001b[0m\u001b[0;34m:\u001b[0m\u001b[0;34m\u001b[0m\u001b[0m\n\u001b[1;32m   1181\u001b[0m             raise AttributeError(\n\u001b[0;32m-> 1182\u001b[0;31m                 \"'%s' object has no attribute '%s'\" % (self.__class__.__name__, name))\n\u001b[0m\u001b[1;32m   1183\u001b[0m         \u001b[0mjc\u001b[0m \u001b[0;34m=\u001b[0m \u001b[0mself\u001b[0m\u001b[0;34m.\u001b[0m\u001b[0m_jdf\u001b[0m\u001b[0;34m.\u001b[0m\u001b[0mapply\u001b[0m\u001b[0;34m(\u001b[0m\u001b[0mname\u001b[0m\u001b[0;34m)\u001b[0m\u001b[0;34m\u001b[0m\u001b[0m\n\u001b[1;32m   1184\u001b[0m         \u001b[0;32mreturn\u001b[0m \u001b[0mColumn\u001b[0m\u001b[0;34m(\u001b[0m\u001b[0mjc\u001b[0m\u001b[0;34m)\u001b[0m\u001b[0;34m\u001b[0m\u001b[0m\n",
      "\u001b[0;31mAttributeError\u001b[0m: 'DataFrame' object has no attribute '_jrdd_deserializer'"
     ]
    }
   ],
   "source": [
    "sc.union([twitter_join.select(common_cols),\n",
    "         memedroid_join.select(common_cols),\n",
    "         imgur_join.select(common_cols),\n",
    "         reddit_join.select(common_cols)])"
   ]
  },
  {
   "cell_type": "code",
   "execution_count": 73,
   "metadata": {},
   "outputs": [],
   "source": [
    "from functools import reduce  # For Python 3.x\n",
    "from pyspark.sql import DataFrame\n",
    "\n",
    "def unionAll(*dfs):\n",
    "    return reduce(DataFrame.unionAll, dfs)"
   ]
  },
  {
   "cell_type": "code",
   "execution_count": 78,
   "metadata": {},
   "outputs": [
    {
     "name": "stdout",
     "output_type": "stream",
     "text": [
      "+-------------------+--------------------+---------+-------+--------------------+--------------------+\n",
      "|                 id|          image_path|extension| source|                text|                 url|\n",
      "+-------------------+--------------------+---------+-------+--------------------+--------------------+\n",
      "|1259043022077034497|images/twitter_20...|      jpg|twitter|Every other membe...|http://pbs.twimg....|\n",
      "|1259036283676098561|images/twitter_20...|      jpg|twitter|\"OmG HAVE yOu SeE...|http://pbs.twimg....|\n",
      "|1259040856100741121|images/twitter_20...|      jpg|twitter|@shammatheking gu...|http://pbs.twimg....|\n",
      "|1259034554842648577|images/twitter_20...|      jpg|twitter|Can I copy your h...|http://pbs.twimg....|\n",
      "|1259033833216843777|images/twitter_20...|      jpg|twitter|d TikTok @gunungg...|http://pbs.twimg....|\n",
      "|1259030996315496448|images/twitter_20...|      png|twitter|Someone: bites th...|http://pbs.twimg....|\n",
      "|1259037496899514369|images/twitter_20...|      png|twitter|How about you sto...|http://pbs.twimg....|\n",
      "|1259035528445538304|images/twitter_20...|      png|twitter|Me: guys play ser...|http://pbs.twimg....|\n",
      "|1259039837241462785|images/twitter_20...|      jpg|twitter|8:35 | 14%里 Threa...|http://pbs.twimg....|\n",
      "|1259035817126879232|images/twitter_20...|      jpg|twitter|\"OmG HAVE yOu SeE...|http://pbs.twimg....|\n",
      "|1259030778387795968|images/twitter_20...|      png|twitter|Someone: bites th...|http://pbs.twimg....|\n",
      "|1259045038065139718|images/twitter_20...|      jpg|twitter|ACHIEVEMENTS You'...|http://pbs.twimg....|\n",
      "|1259035781034848257|images/twitter_20...|      jpg|twitter|                    |http://pbs.twimg....|\n",
      "|1259041025642958848|images/twitter_20...|      jpg|twitter|I could use a pay...|http://pbs.twimg....|\n",
      "|1259045346405232640|images/twitter_20...|      jpg|twitter|ACHIEVEMENTS You'...|http://pbs.twimg....|\n",
      "|1259038549535588352|images/twitter_20...|      jpg|twitter|Pre-Covid Choke H...|http://pbs.twimg....|\n",
      "|1259037451915538432|images/twitter_20...|      jpg|twitter| My Homie in Gta 5: |http://pbs.twimg....|\n",
      "|1259033630376177666|images/twitter_20...|      jpg|twitter|                 ২২ |http://pbs.twimg....|\n",
      "|1259038718259679232|images/twitter_20...|      jpg|twitter|                    |http://pbs.twimg....|\n",
      "|1259034664607657984|images/twitter_20...|      png|twitter|How about you sto...|http://pbs.twimg....|\n",
      "+-------------------+--------------------+---------+-------+--------------------+--------------------+\n",
      "only showing top 20 rows\n",
      "\n"
     ]
    }
   ],
   "source": [
    "unionAll(*[twitter_join.select(common_cols),\n",
    "         memedroid_join.select(common_cols),\n",
    "         imgur_join.select(common_cols),\n",
    "         reddit_join.select(common_cols)]).show()"
   ]
  },
  {
   "cell_type": "code",
   "execution_count": 7,
   "metadata": {},
   "outputs": [],
   "source": [
    "\n",
    "def parse_json(df):\n",
    "\n",
    "    # Schemes for different sources\n",
    "    twitter_schema = StructType().add(\n",
    "    'created_at', StringType(), True).add(\n",
    "    'text', StringType(), True).add(\n",
    "    'favorite_count', IntegerType(), True).add(\n",
    "    'retweet_count', IntegerType(), True).add(\n",
    "    'hashtags', StringType(), True)\n",
    "\n",
    "    memedroid_schema = StructType().add(\n",
    "    'title', StringType(), True).add(\n",
    "    'tags', StringType(), True).add(\n",
    "    'date', StringType(), True).add(\n",
    "    'popularity', StringType(), True)\n",
    "\n",
    "    imgur_schema = StructType().add(\n",
    "    'title', StringType(), True).add(\n",
    "    'datetime', IntegerType(), True).add(\n",
    "    'views', IntegerType(), True).add(\n",
    "    'ups', IntegerType(), True).add(\n",
    "    'downs', IntegerType(), True).add(\n",
    "    'points', IntegerType(), True).add(\n",
    "    'nsfw', StringType(), True)\n",
    "\n",
    "    reddit_schema = StructType().add(\n",
    "    'title', StringType(), True).add(\n",
    "    'date', FloatType(), True).add(\n",
    "    'upvotes', IntegerType(), True).add(\n",
    "    'upvote_ratio', FloatType(), True)\n",
    "    \n",
    "    #final dataframe scheme\n",
    "    final_schema = StructType().add(\n",
    "        'id', StringType(), True).add(\n",
    "        'image_path', StringType(), True).add(\n",
    "        'extension', StringType(), True).add(\n",
    "        'source', StringType(), True).add(\n",
    "        'text', StringType(), True).add(\n",
    "        'url', StringType(), True).add(\n",
    "        # Twitter\n",
    "        'twitter_created_at', StringType(), True).add(\n",
    "        'twitter_tweet_text', StringType(), True).add(\n",
    "        'twitter_favorite_count', IntegerType(), True).add(\n",
    "        'twitter_retweet_count', IntegerType(), True).add(\n",
    "        'twitter_hashtags', StringType(), True).add(\n",
    "        # Memedroid\n",
    "        'memedroid_title', StringType(), True).add(\n",
    "        'memedroid_tags', StringType(), True).add(\n",
    "        'memedroid_date', StringType(), True).add(\n",
    "        'memedroid_popularity', StringType(), True).add(\n",
    "        # imgur\n",
    "        'imgur_title', StringType(), True).add(\n",
    "        'imgur_datetime', StringType(), True).add(\n",
    "        'imgur_views', IntegerType(), True).add(\n",
    "        'imgur_ups', IntegerType(), True).add(\n",
    "        'imgur_downs', IntegerType(), True).add(\n",
    "        'imgur_points', IntegerType(), True).add(\n",
    "        'imgur_nsfw', StringType(), True).add(\n",
    "        # reddit\n",
    "        'reddit_title', StringType(), True).add(\n",
    "        'reddit_date', FloatType(), True).add(\n",
    "        'reddit_upvotes', IntegerType(), True).add(\n",
    "        'reddit_upvote_ratio', FloatType(), True)\n",
    "    output = sqlContext.createDataFrame(sc.emptyRDD(), final_schema)\n",
    "\n",
    "    schemes = {\"twitter\": twitter_schema,\n",
    "               \"memedroid\": memedroid_schema,\n",
    "               \"imgur\": imgur_schema,\n",
    "               \"reddit\": reddit_schema}\n",
    "\n",
    "    # all sources contain such columns \n",
    "    common_cols = ['id', 'image_path', 'extension', 'source', 'text', 'url']\n",
    "\n",
    "    specific_cols = {\"twitter\": ['created_at', 'text', 'favorite_count', 'retweet_count', 'hashtags'],\n",
    "    \"memedroid\": ['title', 'tags', 'date', 'popularity'],\n",
    "    \"imgur\": ['title', 'datetime', 'views', 'ups', 'downs', 'points', 'nsfw'],\n",
    "    \"reddit\": ['title', 'date', 'upvotes', 'upvote_ratio']}\n",
    "\n",
    "    parsed_jsons = []\n",
    "\n",
    "    for source in [\"twitter\", \"memedroid\", \"imgur\", \"reddit\"]:\n",
    "        \n",
    "        current_df = df.filter(df.source == source) \n",
    "\n",
    "        # check if specific data source was correctly collected \n",
    "        if current_df.count() > 0:\n",
    "\n",
    "            current_data = current_df.select(\n",
    "                functions.col('id'),\n",
    "                functions.from_json(functions.col('additional_data'), schema=schemes[source]).alias('data')\n",
    "                ).select('id', 'data.*')\n",
    "\n",
    "            # twitter have 2 column with same name\n",
    "            if source == \"twitter\": current_data = current_data.withColumnRenamed('text', 'tweet_text')\n",
    "\n",
    "            df_alias = source + \"_df\"\n",
    "            data_alias = source + \"_data\"\n",
    "\n",
    "            current_df = current_df.alias(df_alias)\n",
    "            current_data = current_data.alias(data_alias)\n",
    "                \n",
    "            # twitter col workaround\n",
    "            current_join = current_df.join(current_data, current_df.id == current_data.id).select(\n",
    "                *([(df_alias + \".\" + colname) for colname in common_cols] +\n",
    "                 [(data_alias + \".\" + colname) if colname != 'text' else (data_alias + \".tweet_\" + colname) for colname in specific_cols[source]])\n",
    "                 )\n",
    "\n",
    "            # renaming cols\n",
    "            for col in current_join.schema.names:\n",
    "                if col not in common_cols:\n",
    "                    current_join = current_join.withColumnRenamed(col, source + '_' + col)\n",
    "\n",
    "        for field in output.schema.fields:\n",
    "            if field.name not in current_join.schema.names:\n",
    "                current_join = current_join.withColumn(field.name, lit(None).cast(field.dataType))\n",
    "                \n",
    "        current_join = current_join.select(output.schema.names)\n",
    "        parsed_jsons.append(current_join)\n",
    "    \n",
    "\n",
    "    def unionAll(*dfs):\n",
    "        return reduce(DataFrame.unionAll, dfs)\n",
    "\n",
    "    return unionAll(*[df.select('*') for df in parsed_jsons])"
   ]
  },
  {
   "cell_type": "code",
   "execution_count": null,
   "metadata": {},
   "outputs": [
    {
     "name": "stdout",
     "output_type": "stream",
     "text": [
      "/jsons/memes_1588975800125.json\n"
     ]
    }
   ],
   "source": [
    "def unionAll(*dfs):\n",
    "    return reduce(DataFrame.unionAll, dfs)\n",
    "\n",
    "x = None\n",
    "for path in out[1:]:\n",
    "    \n",
    "    print(path)\n",
    "    df = spark.read.json(path)\n",
    "    df = parse_json(df)\n",
    "    if x is None:\n",
    "        x = df\n",
    "    else:\n",
    "        x = x.union(df)\n",
    "    del df"
   ]
  },
  {
   "cell_type": "code",
   "execution_count": 17,
   "metadata": {},
   "outputs": [],
   "source": [
    "df = spark.read.json(out[0])"
   ]
  },
  {
   "cell_type": "code",
   "execution_count": 18,
   "metadata": {},
   "outputs": [
    {
     "name": "stdout",
     "output_type": "stream",
     "text": [
      "root\n",
      " |-- id: string (nullable = true)\n",
      " |-- image_path: string (nullable = true)\n",
      " |-- extension: string (nullable = true)\n",
      " |-- source: string (nullable = true)\n",
      " |-- text: string (nullable = true)\n",
      " |-- url: string (nullable = true)\n",
      " |-- twitter_created_at: string (nullable = true)\n",
      " |-- twitter_tweet_text: string (nullable = true)\n",
      " |-- twitter_favorite_count: integer (nullable = true)\n",
      " |-- twitter_retweet_count: integer (nullable = true)\n",
      " |-- twitter_hashtags: string (nullable = true)\n",
      " |-- memedroid_title: string (nullable = true)\n",
      " |-- memedroid_tags: string (nullable = true)\n",
      " |-- memedroid_date: string (nullable = true)\n",
      " |-- memedroid_popularity: string (nullable = true)\n",
      " |-- imgur_title: string (nullable = true)\n",
      " |-- imgur_datetime: string (nullable = true)\n",
      " |-- imgur_views: integer (nullable = true)\n",
      " |-- imgur_ups: integer (nullable = true)\n",
      " |-- imgur_downs: integer (nullable = true)\n",
      " |-- imgur_points: integer (nullable = true)\n",
      " |-- imgur_nsfw: string (nullable = true)\n",
      " |-- reddit_title: string (nullable = true)\n",
      " |-- reddit_date: float (nullable = true)\n",
      " |-- reddit_upvotes: integer (nullable = true)\n",
      " |-- reddit_upvote_ratio: float (nullable = true)\n",
      "\n"
     ]
    }
   ],
   "source": [
    "x.printSchema()"
   ]
  },
  {
   "cell_type": "code",
   "execution_count": 22,
   "metadata": {},
   "outputs": [
    {
     "data": {
      "text/plain": [
       "pyspark.sql.dataframe.DataFrame"
      ]
     },
     "execution_count": 22,
     "metadata": {},
     "output_type": "execute_result"
    }
   ],
   "source": [
    "type(x)"
   ]
  },
  {
   "cell_type": "code",
   "execution_count": null,
   "metadata": {},
   "outputs": [],
   "source": []
  }
 ],
 "metadata": {
  "kernelspec": {
   "display_name": "Python 3",
   "language": "python",
   "name": "python3"
  },
  "language_info": {
   "codemirror_mode": {
    "name": "ipython",
    "version": 3
   },
   "file_extension": ".py",
   "mimetype": "text/x-python",
   "name": "python",
   "nbconvert_exporter": "python",
   "pygments_lexer": "ipython3",
   "version": "3.5.3"
  }
 },
 "nbformat": 4,
 "nbformat_minor": 4
}
