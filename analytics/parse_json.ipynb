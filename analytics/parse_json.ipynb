{
 "cells": [
  {
   "cell_type": "code",
   "execution_count": 133,
   "metadata": {},
   "outputs": [
    {
     "name": "stdout",
     "output_type": "stream",
     "text": [
      "/home/analytics/Memelysis/analytics\r\n"
     ]
    }
   ],
   "source": [
    "!pwd"
   ]
  },
  {
   "cell_type": "code",
   "execution_count": 134,
   "metadata": {},
   "outputs": [],
   "source": [
    "import findspark\n",
    "findspark.init()"
   ]
  },
  {
   "cell_type": "code",
   "execution_count": 135,
   "metadata": {},
   "outputs": [],
   "source": [
    "import subprocess\n",
    "\n",
    "from pyspark import SparkContext, SparkConf\n",
    "\n",
    "from pyspark.sql.types import StructType, IntegerType, StringType\n",
    "from pyspark.sql import SparkSession, SQLContext, functions"
   ]
  },
  {
   "cell_type": "code",
   "execution_count": 136,
   "metadata": {},
   "outputs": [],
   "source": [
    "sc = SparkContext.getOrCreate()\n",
    "spark = SparkSession(sc)"
   ]
  },
  {
   "cell_type": "code",
   "execution_count": 137,
   "metadata": {},
   "outputs": [
    {
     "name": "stdout",
     "output_type": "stream",
     "text": [
      "/jsons/memes_1588956783893.json\n",
      "/jsons/memes_1588975800125.json\n",
      "/jsons/memes_1588979400070.json\n",
      "/jsons/memes_1588983000044.json\n",
      "/jsons/memes_1588986600066.json\n",
      "/jsons/memes_1588990200082.json\n",
      "/jsons/memes_1588993800056.json\n",
      "/jsons/memes_1588997400057.json\n",
      "/jsons/memes_1589001000045.json\n",
      "/jsons/memes_1589004600051.json\n",
      "/jsons/memes_1589008200048.json\n",
      "/jsons/memes_1589011800040.json\n",
      "/jsons/memes_1589015400180.json\n",
      "/jsons/memes_1589019000033.json\n",
      "/jsons/memes_1589022600061.json\n"
     ]
    }
   ],
   "source": [
    "cmd = 'hdfs dfs -ls /jsons/'\n",
    "\n",
    "files = subprocess.check_output(cmd, shell=True)\n",
    "files = files.strip()\n",
    "files = files.decode().split('\\n')\n",
    "\n",
    "out = []\n",
    "\n",
    "for path in files:\n",
    "    f = path.split(\" \")[-1]\n",
    "    if 'memes_' in f:\n",
    "        out.append(f)\n",
    "        print(f)"
   ]
  },
  {
   "cell_type": "code",
   "execution_count": 138,
   "metadata": {},
   "outputs": [],
   "source": [
    "sqlContext = SQLContext(sc)"
   ]
  },
  {
   "cell_type": "code",
   "execution_count": 139,
   "metadata": {},
   "outputs": [],
   "source": [
    "sample_json = out[-1]"
   ]
  },
  {
   "cell_type": "code",
   "execution_count": 140,
   "metadata": {},
   "outputs": [],
   "source": [
    "df = spark.read.json(sample_json)"
   ]
  },
  {
   "cell_type": "code",
   "execution_count": 141,
   "metadata": {},
   "outputs": [
    {
     "name": "stdout",
     "output_type": "stream",
     "text": [
      "root\n",
      " |-- additional_data: string (nullable = true)\n",
      " |-- extension: string (nullable = true)\n",
      " |-- id: string (nullable = true)\n",
      " |-- image_path: string (nullable = true)\n",
      " |-- source: string (nullable = true)\n",
      " |-- text: string (nullable = true)\n",
      " |-- url: string (nullable = true)\n",
      "\n"
     ]
    }
   ],
   "source": [
    "df.printSchema()"
   ]
  },
  {
   "cell_type": "markdown",
   "metadata": {},
   "source": [
    "# TWITTER"
   ]
  },
  {
   "cell_type": "code",
   "execution_count": 142,
   "metadata": {},
   "outputs": [
    {
     "name": "stdout",
     "output_type": "stream",
     "text": [
      "root\n",
      " |-- id: string (nullable = true)\n",
      " |-- image_path: string (nullable = true)\n",
      " |-- extension: string (nullable = true)\n",
      " |-- source: string (nullable = true)\n",
      " |-- text: string (nullable = true)\n",
      " |-- url: string (nullable = true)\n",
      " |-- created_at: string (nullable = true)\n",
      " |-- tweet_text: string (nullable = true)\n",
      " |-- favorite_count: integer (nullable = true)\n",
      " |-- retweet_count: integer (nullable = true)\n",
      " |-- hashtags: string (nullable = true)\n",
      "\n",
      "+-------------------+--------------------+---------+-------+--------------------+--------------------+-------------------+--------------------+--------------+-------------+--------------------+\n",
      "|                 id|          image_path|extension| source|                text|                 url|         created_at|          tweet_text|favorite_count|retweet_count|            hashtags|\n",
      "+-------------------+--------------------+---------+-------+--------------------+--------------------+-------------------+--------------------+--------------+-------------+--------------------+\n",
      "|1259022330656948224|images/twitter_20...|      jpg|twitter|Good looking Gree...|http://pbs.twimg....|2020-05-09 07:28:09|Laugh in Greek #f...|             0|            0|[{\"text\":\"funny\",...|\n",
      "|1259022909043027968|images/twitter_20...|      png|twitter|♡Listen to Your h...|http://pbs.twimg....|2020-05-09 07:30:27|RT @MemesDnd: Har...|             0|           80|[{\"text\":\"dnd\",\"i...|\n",
      "|1259030241265188868|images/twitter_20...|      jpg|twitter|  Fuclkin' stop you |http://pbs.twimg....|2020-05-09 07:59:35|RT @kito_kyunn: h...|             0|            1|[{\"text\":\"meme\",\"...|\n",
      "|1259021932911083522|images/twitter_20...|      jpg|twitter|                    |http://pbs.twimg....|2020-05-09 07:26:34|RT @SkyplantOff: ...|             0|            2|[{\"text\":\"pokemon...|\n",
      "|1259022373543608321|images/twitter_20...|      jpg|twitter|THIS TEA IS NOTHI...|http://pbs.twimg....|2020-05-09 07:28:20|Never ever diss h...|             0|            0|[{\"text\":\"funny\",...|\n",
      "|1259023705767895040|images/twitter_20...|      jpg|twitter|                    |http://pbs.twimg....|2020-05-09 07:33:37|#gif #pic #meme H...|             0|            0|[{\"text\":\"gif\",\"i...|\n",
      "|1259029304479846400|images/twitter_20...|      jpg|twitter|                    |http://pbs.twimg....|2020-05-09 07:55:52|MeMe Live～Come an...|             0|            1|[{\"text\":\"meme\",\"...|\n",
      "|1259018267181682692|images/twitter_20...|      jpg|twitter|this is a strobbe...|http://pbs.twimg....|2020-05-09 07:12:00|RT @it_DankMemes:...|             0|            1|[{\"text\":\"funny\",...|\n",
      "|1259028258429063168|images/twitter_20...|      jpg|twitter|BatmanE Criminals...|http://pbs.twimg....|2020-05-09 07:51:43|“I never kill.” #...|             2|            0|[{\"text\":\"funny\",...|\n",
      "|1259027324646948865|images/twitter_20...|      jpg|twitter|      STOP peN Cere |http://pbs.twimg....|2020-05-09 07:48:00|Milan, yesterday,...|             1|            0|[{\"text\":\"meme\",\"...|\n",
      "|1259023697807118337|images/twitter_20...|      jpg|twitter|          3685 3885 |http://pbs.twimg....|2020-05-09 07:33:35|#gif #pic #meme M...|             0|            0|[{\"text\":\"gif\",\"i...|\n",
      "|1259020027149328384|images/twitter_20...|      jpg|twitter|  ΜΟΥΥΙ GLASSIC USB |http://pbs.twimg....|2020-05-09 07:19:00|Men's Leather Lap...|             0|            0|[{\"text\":\"kick\",\"...|\n",
      "|1259025893789483008|images/twitter_20...|      jpg|twitter|8:35 | 14%里 Threa...|http://pbs.twimg....|2020-05-09 07:42:19|Calling All Metal...|             5|            2|[{\"text\":\"meme\",\"...|\n",
      "|1259022365272477697|images/twitter_20...|      jpg|twitter|VICE.COM Coronavi...|http://pbs.twimg....|2020-05-09 07:28:18|Thots are gone #f...|             0|            0|[{\"text\":\"funny\",...|\n",
      "|1259029110178713600|images/twitter_20...|      png|twitter|File not found Wh...|http://pbs.twimg....|2020-05-09 07:55:06|RT @ItsYuhBoiiiii...|             0|            1|[{\"text\":\"funny\",...|\n",
      "|1259025642609393665|images/twitter_20...|      png|twitter|15 year old boy i...|http://pbs.twimg....|2020-05-09 07:41:19|really hoping thi...|             0|            0|[{\"text\":\"meme\",\"...|\n",
      "|1259027580679852032|images/twitter_20...|      jpg|twitter|Jula 2010. F 18 4...|http://pbs.twimg....|2020-05-09 07:49:01|RT @FoolBrew: Who...|             0|           31|[{\"text\":\"pokemon...|\n",
      "|1259025636083011585|images/twitter_20...|      png|twitter|WILL YOU PRESS TH...|http://pbs.twimg....|2020-05-09 07:41:17|bip bop I' m a ri...|             0|            1|[{\"text\":\"meme\",\"...|\n",
      "|1259025922365194242|images/twitter_20...|      jpg|twitter|ENDLESS AMOUNT OF...|http://pbs.twimg....|2020-05-09 07:42:26|Sometimes I branc...|             4|            1|[{\"text\":\"meme\",\"...|\n",
      "|1259025738075955202|images/twitter_20...|      jpg|twitter|In the movie The ...|http://pbs.twimg....|2020-05-09 07:41:42|He gotta pay for ...|             0|            0|[{\"text\":\"funny\",...|\n",
      "+-------------------+--------------------+---------+-------+--------------------+--------------------+-------------------+--------------------+--------------+-------------+--------------------+\n",
      "only showing top 20 rows\n",
      "\n"
     ]
    }
   ],
   "source": [
    "twitter_df = df.filter(df.source == 'twitter')\n",
    "\n",
    "twitter_schema = StructType().add(\n",
    "    'created_at', StringType(), True).add(\n",
    "    'text', StringType(), True).add(\n",
    "    'favorite_count', IntegerType(), True).add(\n",
    "    'retweet_count', IntegerType(), True).add(\n",
    "    'hashtags', StringType(), True)\n",
    "\n",
    "twitter_data =  twitter_df.select(\n",
    "    functions.col('id'),\n",
    "    functions.from_json(functions.col('additional_data'), schema=twitter_schema).alias(\"data\")\n",
    ").select('id', 'data.*')\n",
    "\n",
    "twitter_data = twitter_data.withColumnRenamed('text', 'tweet_text')\n",
    "\n",
    "twitter_df = twitter_df.alias('twitter_df')\n",
    "twitter_data = twitter_data.alias('twitter_data')\n",
    "\n",
    "inner_join = twitter_df.join(twitter_data,\n",
    "                             twitter_df.id == twitter_data.id).select(\n",
    "    'twitter_df.id',\n",
    "    'twitter_df.image_path',\n",
    "    'twitter_df.extension',\n",
    "    'twitter_df.source',\n",
    "    'twitter_df.text',\n",
    "    'twitter_df.url',\n",
    "    'twitter_data.created_at',\n",
    "    'twitter_data.tweet_text',\n",
    "    'twitter_data.favorite_count',\n",
    "    'twitter_data.retweet_count',\n",
    "    'twitter_data.hashtags')\n",
    "inner_join.printSchema()\n",
    "inner_join.show()"
   ]
  },
  {
   "cell_type": "markdown",
   "metadata": {},
   "source": [
    "# MEMEDROID"
   ]
  },
  {
   "cell_type": "code",
   "execution_count": 145,
   "metadata": {},
   "outputs": [],
   "source": [
    "x = memedroid_df.select('additional_data').limit(1).collect()"
   ]
  },
  {
   "cell_type": "code",
   "execution_count": 148,
   "metadata": {},
   "outputs": [
    {
     "name": "stdout",
     "output_type": "stream",
     "text": [
      "root\n",
      " |-- id: string (nullable = true)\n",
      " |-- image_path: string (nullable = true)\n",
      " |-- extension: string (nullable = true)\n",
      " |-- source: string (nullable = true)\n",
      " |-- text: string (nullable = true)\n",
      " |-- url: string (nullable = true)\n",
      " |-- title: string (nullable = true)\n",
      " |-- tags: string (nullable = true)\n",
      " |-- date: integer (nullable = true)\n",
      " |-- popularity: integer (nullable = true)\n",
      "\n",
      "+--------------------+--------------------+---------+---------+--------------------+--------------------+-----+----+----+----------+\n",
      "|                  id|          image_path|extension|   source|                text|                 url|title|tags|date|popularity|\n",
      "+--------------------+--------------------+---------+---------+--------------------+--------------------+-----+----+----+----------+\n",
      "|UPLOADED715eb4ba4...|images/memedroid_...|     jpeg|memedroid|REMEMBER WHEN YOU...|https://images3.m...| null|null|null|      null|\n",
      "|UPLOADED9565eb509...|images/memedroid_...|     jpeg|memedroid|My microwave The ...|https://images7.m...| null|null|null|      null|\n",
      "|UPLOADED4315eb4ac...|images/memedroid_...|     jpeg|memedroid|can't wait for th...|https://images3.m...| null|null|null|      null|\n",
      "|UPLOADED7435eb4a4...|images/memedroid_...|     jpeg|memedroid|Coronavirus 2020 ...|https://images7.m...| null|null|null|      null|\n",
      "|UPLOADED7865eb4c3...|images/memedroid_...|     jpeg|memedroid|when my housemate...|https://images7.m...| null|null|null|      null|\n",
      "|UPLOADED2035eb4bd...|images/memedroid_...|     jpeg|memedroid|Why do we see lig...|https://images3.m...| null|null|null|      null|\n",
      "|UPLOADED7325eb4bd...|images/memedroid_...|     jpeg|memedroid|USA Why can't you...|https://images7.m...| null|null|null|      null|\n",
      "|UPLOADED2325eb4d0...|images/memedroid_...|     jpeg|memedroid|HAPPY BIRTHDAY! C...|https://images3.m...| null|null|null|      null|\n",
      "|UPLOADED6335eb499...|images/memedroid_...|     jpeg|memedroid|send a pic Holy s...|https://images7.m...| null|null|null|      null|\n",
      "|UPLOADED4315eb4c6...|images/memedroid_...|     jpeg|memedroid|Rainbow Six Siege...|https://images3.m...| null|null|null|      null|\n",
      "|UPLOADED7435eb4c1...|images/memedroid_...|     jpeg|memedroid|Man Woman White B...|https://images7.m...| null|null|null|      null|\n",
      "|UPLOADED1935eb4c6...|images/memedroid_...|     jpeg|memedroid|What is it? More1...|https://images3.m...| null|null|null|      null|\n",
      "|UPLOADED1665eb4b9...|images/memedroid_...|     jpeg|memedroid|  ISLAND ISN'T LAND |https://images3.m...| null|null|null|      null|\n",
      "|UPLOADED7145eb4c3...|images/memedroid_...|     jpeg|memedroid|when your wife ta...|https://images7.m...| null|null|null|      null|\n",
      "|UPLOADED3375eb481...|images/memedroid_...|     jpeg|memedroid|MURDER HORNETS?? ...|https://images3.m...| null|null|null|      null|\n",
      "+--------------------+--------------------+---------+---------+--------------------+--------------------+-----+----+----+----------+\n",
      "\n"
     ]
    }
   ],
   "source": [
    "memedroid_df = df.filter(df.source == 'memedroid')\n",
    "\n",
    "memedroid_schema = StructType().add(\n",
    "    'title', StringType(), True).add(\n",
    "    'tags', StringType(), True).add(\n",
    "    'date', IntegerType(), True).add(\n",
    "    'popularity', IntegerType(), True)\n",
    "\n",
    "memedroid_data =  memedroid_df.select(\n",
    "    functions.col('id'),\n",
    "    functions.from_json(functions.col('additional_data'), schema=memedroid_schema).alias(\"data\")\n",
    ").select('id', 'data.*')\n",
    "\n",
    "\n",
    "memedroid_df = memedroid_df.alias('memedroid_df')\n",
    "memedroid_data = memedroid_data.alias('memedroid_data')\n",
    "\n",
    "inner_join = memedroid_df.join(memedroid_data,\n",
    "                             memedroid_df.id == memedroid_data.id).select(\n",
    "    'memedroid_df.id',\n",
    "    'memedroid_df.image_path',\n",
    "    'memedroid_df.extension',\n",
    "    'memedroid_df.source',\n",
    "    'memedroid_df.text',\n",
    "    'memedroid_df.url',\n",
    "    'memedroid_data.title',\n",
    "    'memedroid_data.tags',\n",
    "    'memedroid_data.date',\n",
    "    'memedroid_data.popularity')\n",
    "\n",
    "inner_join.printSchema()\n",
    "inner_join.show()"
   ]
  },
  {
   "cell_type": "markdown",
   "metadata": {},
   "source": [
    "# IMGUR"
   ]
  },
  {
   "cell_type": "code",
   "execution_count": 151,
   "metadata": {},
   "outputs": [
    {
     "name": "stdout",
     "output_type": "stream",
     "text": [
      "[Row(additional_data='{\"id\":\"2RXU3z2\",\"title\":\"The risky move\",\"description\":null,\"datetime\":1589011180,\"cover\":\"nPtkoem\",\"cover_width\":460,\"cover_height\":570,\"account_url\":\"KrugerSchmidts\",\"account_id\":14100021,\"privacy\":\"hidden\",\"layout\":\"blog\",\"views\":134,\"link\":\"https://imgur.com/a/2RXU3z2\",\"ups\":4,\"downs\":5,\"points\":-1,\"score\":0,\"is_album\":true,\"vote\":null,\"favorite\":false,\"nsfw\":false,\"section\":\"\",\"comment_count\":4,\"favorite_count\":0,\"topic\":\"No Topic\",\"topic_id\":29,\"images_count\":1,\"in_gallery\":true,\"is_ad\":false,\"tags\":[{\"name\":\"memes\",\"display_name\":\"memes\",\"followers\":1898119,\"total_items\":520012,\"following\":false,\"is_whitelisted\":false,\"background_hash\":\"1z4dgZT\",\"thumbnail_hash\":null,\"accent\":\"ba519f\",\"background_is_animated\":false,\"thumbnail_is_animated\":false,\"is_promoted\":false,\"description\":\"the freshest memes\",\"logo_hash\":null,\"logo_destination_url\":null,\"description_annotations\":[]},{\"name\":\"chess\",\"display_name\":\"chess\",\"followers\":383,\"total_items\":995,\"following\":false,\"is_whitelisted\":false,\"background_hash\":\"R1dEESs\",\"thumbnail_hash\":null,\"accent\":\"5E58CB\",\"background_is_animated\":false,\"thumbnail_is_animated\":false,\"is_promoted\":false,\"description\":\"\",\"logo_hash\":null,\"logo_destination_url\":null,\"description_annotations\":[]},{\"name\":\"risky_move\",\"display_name\":\"risky move\",\"followers\":0,\"total_items\":0,\"following\":false,\"is_whitelisted\":false,\"background_hash\":\"iN4Gb0k\",\"thumbnail_hash\":null,\"accent\":\"5B62A5\",\"background_is_animated\":false,\"thumbnail_is_animated\":false,\"is_promoted\":false,\"description\":\"\",\"logo_hash\":null,\"logo_destination_url\":null,\"description_annotations\":[]}],\"ad_type\":0,\"ad_url\":\"\",\"in_most_viral\":false,\"include_album_ads\":false,\"images\":[{\"id\":\"nPtkoem\",\"title\":null,\"description\":null,\"datetime\":1589011165,\"type\":\"image/jpeg\",\"animated\":false,\"width\":460,\"height\":570,\"size\":33095,\"views\":168,\"bandwidth\":5559960,\"vote\":null,\"favorite\":false,\"nsfw\":null,\"section\":null,\"account_url\":null,\"account_id\":null,\"is_ad\":false,\"in_most_viral\":false,\"has_sound\":false,\"tags\":[],\"ad_type\":0,\"ad_url\":\"\",\"edited\":\"0\",\"in_gallery\":false,\"link\":\"https://i.imgur.com/nPtkoem.jpg\",\"comment_count\":null,\"favorite_count\":null,\"ups\":null,\"downs\":null,\"points\":null,\"score\":null}],\"ad_config\":{\"safeFlags\":[\"in_gallery\",\"album\",\"onsfw_mod_safe\"],\"highRiskFlags\":[],\"unsafeFlags\":[\"sixth_mod_unsafe\",\"under_10\"],\"wallUnsafeFlags\":[],\"showsAds\":false}}')]\n",
      "+--------------------+---------+-------+--------------------+------+--------------------+--------------------+\n",
      "|     additional_data|extension|     id|          image_path|source|                text|                 url|\n",
      "+--------------------+---------+-------+--------------------+------+--------------------+--------------------+\n",
      "|{\"id\":\"2RXU3z2\",\"...|      jpg|nPtkoem|images/imgur_2020...| imgur|Students Dont be ...|https://i.imgur.c...|\n",
      "|{\"id\":\"p85Hz0j\",\"...|      jpg|0xd5nnG|images/imgur_2020...| imgur|skettie @ben_gett...|https://i.imgur.c...|\n",
      "|{\"id\":\"p85Hz0j\",\"...|      jpg|yxbpgtF|images/imgur_2020...| imgur|I GUARD MY MASTER...|https://i.imgur.c...|\n",
      "|{\"id\":\"c0YMgLs\",\"...|      jpg|doNn2i5|images/imgur_2020...| imgur|Org yanic DUSTRIA...|https://i.imgur.c...|\n",
      "|{\"id\":\"Y7DOvII\",\"...|      jpg|WMytnAa|images/imgur_2020...| imgur|when you buy chea...|https://i.imgur.c...|\n",
      "|{\"id\":\"3Ojlx0T\",\"...|      jpg|sE3dvVY|images/imgur_2020...| imgur|CANADIAN TRAP +२e...|https://i.imgur.c...|\n",
      "|{\"id\":\"3Ojlx0T\",\"...|      jpg|C4cDmLT|images/imgur_2020...| imgur|COME TO CANADA TO...|https://i.imgur.c...|\n",
      "|{\"id\":\"LbcwjSL\",\"...|      jpg|eD358mT|images/imgur_2020...| imgur|Now might be a re...|https://i.imgur.c...|\n",
      "|{\"id\":\"p85Hz0j\",\"...|      jpg|KG4sOS9|images/imgur_2020...| imgur|itseasytoremember...|https://i.imgur.c...|\n",
      "|{\"id\":\"oR62zMw\",\"...|      jpg|7Zx9fgB|images/imgur_2020...| imgur|My dad coming to ...|https://i.imgur.c...|\n",
      "|{\"id\":\"3Ojlx0T\",\"...|      jpg|OE4k10K|images/imgur_2020...| imgur|                  ப |https://i.imgur.c...|\n",
      "|{\"id\":\"oR62zMw\",\"...|      jpg|0oHFXqD|images/imgur_2020...| imgur|The homies the mo...|https://i.imgur.c...|\n",
      "|{\"id\":\"0hrG8DI\",\"...|      jpg|M5dBXvR|images/imgur_2020...| imgur|Me- enemies at 22...|https://i.imgur.c...|\n",
      "|{\"id\":\"82buq2c\",\"...|      jpg|pJAAkRJ|images/imgur_2020...| imgur|When your girl sa...|https://i.imgur.c...|\n",
      "|{\"id\":\"KVi56A7\",\"...|      jpg|6Y21T1k|images/imgur_2020...| imgur|SEMI AUTO OR BOLT...|https://i.imgur.c...|\n",
      "|{\"id\":\"oR62zMw\",\"...|      jpg|QY9JOck|images/imgur_2020...| imgur|Disney+ Star Wars...|https://i.imgur.c...|\n",
      "|{\"id\":\"Ll9lVMT\",\"...|      jpg|YeMdMBe|images/imgur_2020...| imgur|I'm SINGLE TAKEN ...|https://i.imgur.c...|\n",
      "|{\"id\":\"VL5rayc\",\"...|      jpg|Czy548M|images/imgur_2020...| imgur|Manager Worker Yo...|https://i.imgur.c...|\n",
      "|{\"id\":\"4tva08s\",\"...|      jpg|a0oRtiA|images/imgur_2020...| imgur|The government Al...|https://i.imgur.c...|\n",
      "+--------------------+---------+-------+--------------------+------+--------------------+--------------------+\n",
      "\n"
     ]
    }
   ],
   "source": [
    "imgur_df = df.filter(df.source == 'imgur')\n",
    "x = imgur_df.select('additional_data').limit(1).collect()\n",
    "print(x)\n",
    "imgur_df.show()"
   ]
  },
  {
   "cell_type": "code",
   "execution_count": 157,
   "metadata": {},
   "outputs": [
    {
     "name": "stdout",
     "output_type": "stream",
     "text": [
      "root\n",
      " |-- id: string (nullable = true)\n",
      " |-- image_path: string (nullable = true)\n",
      " |-- extension: string (nullable = true)\n",
      " |-- source: string (nullable = true)\n",
      " |-- text: string (nullable = true)\n",
      " |-- url: string (nullable = true)\n",
      " |-- title: string (nullable = true)\n",
      " |-- datetime: integer (nullable = true)\n",
      "\n",
      "+-------+--------------------+---------+------+--------------------+--------------------+--------------------+----------+\n",
      "|     id|          image_path|extension|source|                text|                 url|               title|  datetime|\n",
      "+-------+--------------------+---------+------+--------------------+--------------------+--------------------+----------+\n",
      "|nPtkoem|images/imgur_2020...|      jpg| imgur|Students Dont be ...|https://i.imgur.c...|      The risky move|1589011180|\n",
      "|0xd5nnG|images/imgur_2020...|      jpg| imgur|skettie @ben_gett...|https://i.imgur.c...|Some pet memes to...|1589009323|\n",
      "|yxbpgtF|images/imgur_2020...|      jpg| imgur|I GUARD MY MASTER...|https://i.imgur.c...|Some pet memes to...|1589009323|\n",
      "|doNn2i5|images/imgur_2020...|      jpg| imgur|Org yanic DUSTRIA...|https://i.imgur.c...|                 Lol|1589009179|\n",
      "|WMytnAa|images/imgur_2020...|      jpg| imgur|when you buy chea...|https://i.imgur.c...|Nyet, ammo is fin...|1589008145|\n",
      "|sE3dvVY|images/imgur_2020...|      jpg| imgur|CANADIAN TRAP +२e...|https://i.imgur.c...|stereotypical Canada|1589008108|\n",
      "|C4cDmLT|images/imgur_2020...|      jpg| imgur|COME TO CANADA TO...|https://i.imgur.c...|stereotypical Canada|1589008108|\n",
      "|eD358mT|images/imgur_2020...|      jpg| imgur|Now might be a re...|https://i.imgur.c...|       Momma said...|1589010949|\n",
      "|KG4sOS9|images/imgur_2020...|      jpg| imgur|itseasytoremember...|https://i.imgur.c...|Some pet memes to...|1589009323|\n",
      "|7Zx9fgB|images/imgur_2020...|      jpg| imgur|My dad coming to ...|https://i.imgur.c...|Maymays 238: Let ...|1589008660|\n",
      "|OE4k10K|images/imgur_2020...|      jpg| imgur|                  ப |https://i.imgur.c...|stereotypical Canada|1589008108|\n",
      "|0oHFXqD|images/imgur_2020...|      jpg| imgur|The homies the mo...|https://i.imgur.c...|Maymays 238: Let ...|1589008660|\n",
      "|M5dBXvR|images/imgur_2020...|      jpg| imgur|Me- enemies at 22...|https://i.imgur.c...|Every, damn, time...|1589007824|\n",
      "|pJAAkRJ|images/imgur_2020...|      jpg| imgur|When your girl sa...|https://i.imgur.c...|         Bad news...|1589009034|\n",
      "|6Y21T1k|images/imgur_2020...|      jpg| imgur|SEMI AUTO OR BOLT...|https://i.imgur.c...|Yup..she's a keeper.|1589007948|\n",
      "|QY9JOck|images/imgur_2020...|      jpg| imgur|Disney+ Star Wars...|https://i.imgur.c...|Maymays 238: Let ...|1589008660|\n",
      "|YeMdMBe|images/imgur_2020...|      jpg| imgur|I'm SINGLE TAKEN ...|https://i.imgur.c...|If you ain't firs...|1589010213|\n",
      "|Czy548M|images/imgur_2020...|      jpg| imgur|Manager Worker Yo...|https://i.imgur.c...|No no, no osha he...|1589010113|\n",
      "|a0oRtiA|images/imgur_2020...|      jpg| imgur|The government Al...|https://i.imgur.c...|I'll just leave t...|1589008544|\n",
      "+-------+--------------------+---------+------+--------------------+--------------------+--------------------+----------+\n",
      "\n"
     ]
    }
   ],
   "source": [
    "imgur_df = df.filter(df.source == 'imgur')\n",
    "\n",
    "imgur_schema = StructType().add(\n",
    "    'title', StringType(), True).add(\n",
    "    'datetime', IntegerType(), True).add(\n",
    "    'views', IntegerType(), True).add(\n",
    "    'ups', IntegerType(), True).add(\n",
    "    'downs', IntegerType(), True).add(\n",
    "    'points', IntegerType(), True).add(\n",
    "    'nsfw', StringType(), True)\n",
    "imgur_data =  imgur_df.select(\n",
    "    functions.col('id'),\n",
    "    functions.from_json(functions.col('additional_data'), schema=imgur_schema).alias(\"data\")\n",
    ").select('id', 'data.*')\n",
    "\n",
    "imgur_df = imgur_df.alias('imgur_df')\n",
    "imgur_data = imgur_data.alias('imgur_data')\n",
    "\n",
    "inner_join = imgur_df.join(imgur_data,\n",
    "                             imgur_df.id == imgur_data.id).select(\n",
    "    'imgur_df.id',\n",
    "    'imgur_df.image_path',\n",
    "    'imgur_df.extension',\n",
    "    'imgur_df.source',\n",
    "    'imgur_df.text',\n",
    "    'imgur_df.url',\n",
    "    'imgur_data.title',\n",
    "    'imgur_data.datetime',\n",
    "    'imgur_data.datetime',\n",
    "    'imgur_data.datetime',\n",
    "    'imgur_data.datetime',\n",
    "    'imgur_data.datetime',\n",
    "    )\n",
    "\n",
    "inner_join.printSchema()\n",
    "inner_join.show()"
   ]
  },
  {
   "cell_type": "code",
   "execution_count": null,
   "metadata": {},
   "outputs": [],
   "source": []
  }
 ],
 "metadata": {
  "kernelspec": {
   "display_name": "Python 3",
   "language": "python",
   "name": "python3"
  },
  "language_info": {
   "codemirror_mode": {
    "name": "ipython",
    "version": 3
   },
   "file_extension": ".py",
   "mimetype": "text/x-python",
   "name": "python",
   "nbconvert_exporter": "python",
   "pygments_lexer": "ipython3",
   "version": "3.5.3"
  }
 },
 "nbformat": 4,
 "nbformat_minor": 4
}
